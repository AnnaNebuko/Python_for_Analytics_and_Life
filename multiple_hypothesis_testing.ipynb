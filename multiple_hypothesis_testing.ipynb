{
 "cells": [
  {
   "cell_type": "code",
   "execution_count": 1,
   "id": "ee52f0d7",
   "metadata": {},
   "outputs": [],
   "source": [
    "import pandas as pd\n",
    "import numpy as np\n",
    "from statsmodels.stats.weightstats import ztest\n",
    "from scipy.stats import ttest_ind"
   ]
  },
  {
   "cell_type": "code",
   "execution_count": 2,
   "id": "454877c1",
   "metadata": {},
   "outputs": [
    {
     "data": {
      "text/html": [
       "<div>\n",
       "<style scoped>\n",
       "    .dataframe tbody tr th:only-of-type {\n",
       "        vertical-align: middle;\n",
       "    }\n",
       "\n",
       "    .dataframe tbody tr th {\n",
       "        vertical-align: top;\n",
       "    }\n",
       "\n",
       "    .dataframe thead th {\n",
       "        text-align: right;\n",
       "    }\n",
       "</style>\n",
       "<table border=\"1\" class=\"dataframe\">\n",
       "  <thead>\n",
       "    <tr style=\"text-align: right;\">\n",
       "      <th></th>\n",
       "      <th>end_result</th>\n",
       "      <th>game</th>\n",
       "      <th>game_id</th>\n",
       "      <th>period</th>\n",
       "      <th>play</th>\n",
       "      <th>player</th>\n",
       "      <th>playoffs</th>\n",
       "      <th>score</th>\n",
       "      <th>season</th>\n",
       "      <th>shot_made</th>\n",
       "      <th>time</th>\n",
       "    </tr>\n",
       "  </thead>\n",
       "  <tbody>\n",
       "    <tr>\n",
       "      <th>0</th>\n",
       "      <td>106 - 114</td>\n",
       "      <td>PHX - LAL</td>\n",
       "      <td>261031013.0</td>\n",
       "      <td>1.0</td>\n",
       "      <td>Andrew Bynum makes free throw 1 of 2</td>\n",
       "      <td>Andrew Bynum</td>\n",
       "      <td>regular</td>\n",
       "      <td>0 - 1</td>\n",
       "      <td>2006 - 2007</td>\n",
       "      <td>1</td>\n",
       "      <td>11:45</td>\n",
       "    </tr>\n",
       "    <tr>\n",
       "      <th>1</th>\n",
       "      <td>106 - 114</td>\n",
       "      <td>PHX - LAL</td>\n",
       "      <td>261031013.0</td>\n",
       "      <td>1.0</td>\n",
       "      <td>Andrew Bynum makes free throw 2 of 2</td>\n",
       "      <td>Andrew Bynum</td>\n",
       "      <td>regular</td>\n",
       "      <td>0 - 2</td>\n",
       "      <td>2006 - 2007</td>\n",
       "      <td>1</td>\n",
       "      <td>11:45</td>\n",
       "    </tr>\n",
       "    <tr>\n",
       "      <th>2</th>\n",
       "      <td>106 - 114</td>\n",
       "      <td>PHX - LAL</td>\n",
       "      <td>261031013.0</td>\n",
       "      <td>1.0</td>\n",
       "      <td>Andrew Bynum makes free throw 1 of 2</td>\n",
       "      <td>Andrew Bynum</td>\n",
       "      <td>regular</td>\n",
       "      <td>18 - 12</td>\n",
       "      <td>2006 - 2007</td>\n",
       "      <td>1</td>\n",
       "      <td>7:26</td>\n",
       "    </tr>\n",
       "    <tr>\n",
       "      <th>3</th>\n",
       "      <td>106 - 114</td>\n",
       "      <td>PHX - LAL</td>\n",
       "      <td>261031013.0</td>\n",
       "      <td>1.0</td>\n",
       "      <td>Andrew Bynum misses free throw 2 of 2</td>\n",
       "      <td>Andrew Bynum</td>\n",
       "      <td>regular</td>\n",
       "      <td>18 - 12</td>\n",
       "      <td>2006 - 2007</td>\n",
       "      <td>0</td>\n",
       "      <td>7:26</td>\n",
       "    </tr>\n",
       "    <tr>\n",
       "      <th>4</th>\n",
       "      <td>106 - 114</td>\n",
       "      <td>PHX - LAL</td>\n",
       "      <td>261031013.0</td>\n",
       "      <td>1.0</td>\n",
       "      <td>Shawn Marion makes free throw 1 of 1</td>\n",
       "      <td>Shawn Marion</td>\n",
       "      <td>regular</td>\n",
       "      <td>21 - 12</td>\n",
       "      <td>2006 - 2007</td>\n",
       "      <td>1</td>\n",
       "      <td>7:18</td>\n",
       "    </tr>\n",
       "  </tbody>\n",
       "</table>\n",
       "</div>"
      ],
      "text/plain": [
       "  end_result       game      game_id  period  \\\n",
       "0  106 - 114  PHX - LAL  261031013.0     1.0   \n",
       "1  106 - 114  PHX - LAL  261031013.0     1.0   \n",
       "2  106 - 114  PHX - LAL  261031013.0     1.0   \n",
       "3  106 - 114  PHX - LAL  261031013.0     1.0   \n",
       "4  106 - 114  PHX - LAL  261031013.0     1.0   \n",
       "\n",
       "                                    play        player playoffs    score  \\\n",
       "0   Andrew Bynum makes free throw 1 of 2  Andrew Bynum  regular    0 - 1   \n",
       "1   Andrew Bynum makes free throw 2 of 2  Andrew Bynum  regular    0 - 2   \n",
       "2   Andrew Bynum makes free throw 1 of 2  Andrew Bynum  regular  18 - 12   \n",
       "3  Andrew Bynum misses free throw 2 of 2  Andrew Bynum  regular  18 - 12   \n",
       "4   Shawn Marion makes free throw 1 of 1  Shawn Marion  regular  21 - 12   \n",
       "\n",
       "        season  shot_made   time  \n",
       "0  2006 - 2007          1  11:45  \n",
       "1  2006 - 2007          1  11:45  \n",
       "2  2006 - 2007          1   7:26  \n",
       "3  2006 - 2007          0   7:26  \n",
       "4  2006 - 2007          1   7:18  "
      ]
     },
     "execution_count": 2,
     "metadata": {},
     "output_type": "execute_result"
    }
   ],
   "source": [
    "data = pd.read_csv(\"free_throws.csv\")\n",
    "data.head()"
   ]
  },
  {
   "cell_type": "markdown",
   "id": "5fb802a1",
   "metadata": {},
   "source": [
    "В качеству нулевой гипотезы возьмём то, что для игроков нет разницы в результативности относительно того, в какой половине матча они совершают броски. Колонка period = тайм. Первой половиной матча будем считать значения 1 и 2, а второй — 3 и 4"
   ]
  },
  {
   "cell_type": "code",
   "execution_count": 14,
   "id": "80a445c9",
   "metadata": {},
   "outputs": [],
   "source": [
    "new_df = {\n",
    "    \"player\": [],\n",
    "    \"first_part_mean\": [],\n",
    "    \"second_part_mean\": [],\n",
    "    \"p_value\": []\n",
    "}\n",
    "\n",
    "for player, group in data.groupby(\"player\"):\n",
    "    first_part_shots = group[group[\"period\"] == 1.0][\"shot_made\"].values.tolist() + group[group[\"period\"] == 2.0][\"shot_made\"].values.tolist()\n",
    "    second_part_shots = group[group[\"period\"] == 3.0][\"shot_made\"].values.tolist() + group[group[\"period\"] == 4.0][\"shot_made\"].values.tolist()\n",
    "    \n",
    "    if len(first_part_shots) < 30 or len(second_part_shots) < 30:\n",
    "        continue\n",
    "        \n",
    "    statistic, p_value = ztest(first_part_shots, second_part_shots)\n",
    "\n",
    "    new_df[\"player\"].append(player)\n",
    "    new_df[\"first_part_mean\"].append(np.mean(first_part_shots))\n",
    "    new_df[\"second_part_mean\"].append(np.mean(second_part_shots))\n",
    "    new_df[\"p_value\"].append(p_value)\n",
    "    \n",
    "new_df = pd.DataFrame(new_df)"
   ]
  },
  {
   "cell_type": "code",
   "execution_count": 15,
   "id": "510e7ae6",
   "metadata": {},
   "outputs": [
    {
     "data": {
      "text/plain": [
       "(706, 4)"
      ]
     },
     "execution_count": 15,
     "metadata": {},
     "output_type": "execute_result"
    }
   ],
   "source": [
    "#Сколько игроков забили больше, чем 30 мечей\n",
    "new_df.shape"
   ]
  },
  {
   "cell_type": "markdown",
   "id": "d92016d8",
   "metadata": {},
   "source": [
    "На результативность 661 игрока игрет роль вторая это или первая половина матча:"
   ]
  },
  {
   "cell_type": "code",
   "execution_count": 21,
   "id": "7e3362da",
   "metadata": {
    "scrolled": true
   },
   "outputs": [
    {
     "data": {
      "text/plain": [
       "(661, 4)"
      ]
     },
     "execution_count": 21,
     "metadata": {},
     "output_type": "execute_result"
    }
   ],
   "source": [
    "new_df[new_df.p_value > 0.05].shape"
   ]
  },
  {
   "cell_type": "code",
   "execution_count": 22,
   "id": "a3b8f064",
   "metadata": {},
   "outputs": [
    {
     "data": {
      "text/plain": [
       "0.0002780044959317111"
      ]
     },
     "execution_count": 22,
     "metadata": {},
     "output_type": "execute_result"
    }
   ],
   "source": [
    "new_df.p_value.min()"
   ]
  },
  {
   "cell_type": "code",
   "execution_count": 23,
   "id": "0e068f1d",
   "metadata": {},
   "outputs": [
    {
     "data": {
      "text/plain": [
       "0"
      ]
     },
     "execution_count": 23,
     "metadata": {},
     "output_type": "execute_result"
    }
   ],
   "source": [
    "#Cравним результаты с поправкой Бонферрони и методом Холма:\n",
    "from statsmodels.stats.multitest import multipletests\n",
    "\n",
    "multipletests(new_df.p_value, alpha=0.05, method='bonferroni')[0].sum()"
   ]
  },
  {
   "cell_type": "code",
   "execution_count": 24,
   "id": "5dfc757e",
   "metadata": {},
   "outputs": [
    {
     "data": {
      "text/plain": [
       "0"
      ]
     },
     "execution_count": 24,
     "metadata": {},
     "output_type": "execute_result"
    }
   ],
   "source": [
    "multipletests(new_df.p_value, alpha=0.05, method='holm')[0].sum()"
   ]
  },
  {
   "cell_type": "markdown",
   "id": "f856fff7",
   "metadata": {},
   "source": [
    "Вывод: если гипотеза проверяется на множественном количестве испытуемых, нужно использовать поправки Бонферрони и Холма, \n",
    "потому что чем больше попыток, тем больше вероятность сделать ошибку первого рода"
   ]
  }
 ],
 "metadata": {
  "kernelspec": {
   "display_name": "Python 3 (ipykernel)",
   "language": "python",
   "name": "python3"
  },
  "language_info": {
   "codemirror_mode": {
    "name": "ipython",
    "version": 3
   },
   "file_extension": ".py",
   "mimetype": "text/x-python",
   "name": "python",
   "nbconvert_exporter": "python",
   "pygments_lexer": "ipython3",
   "version": "3.9.13"
  }
 },
 "nbformat": 4,
 "nbformat_minor": 5
}
