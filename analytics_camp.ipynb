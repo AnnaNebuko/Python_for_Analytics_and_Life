{
 "cells": [
  {
   "cell_type": "code",
   "execution_count": 2,
   "id": "812b48e6",
   "metadata": {},
   "outputs": [],
   "source": [
    "import pandas as pd\n",
    "import matplotlib.pyplot as plt\n",
    "import numpy as np "
   ]
  },
  {
   "cell_type": "markdown",
   "id": "9bc31aa8",
   "metadata": {},
   "source": [
    "#### Вопросы:\n",
    "a. Какой рекламный канал принёс больше всего дохода за всё время? \n",
    "\n",
    "b. Как изменился средний чек транзакции после введения коронавирусных ограничений?  Как он изменился для пользователей, покупающих с промокодом и без? (параметр «promo_activated») \n",
    "\n",
    "c. Можно ли с уверенностью в 95% сказать, что CR (коэффициент конверсии в транзакцию) в выходные дни отличается от CR в будние дни? \n",
    "\n",
    "d. Вам необходимо спрогнозировать объем дохода, полученного с пользователей,  приведенных на сайт контекстной рекламой (medium = cpc) на полгода вперед. \n",
    "Опишите, как бы вы подошли к этой задаче и какие дополнительные данные вам понадобятся? "
   ]
  },
  {
   "cell_type": "markdown",
   "id": "3ef50af9",
   "metadata": {},
   "source": [
    "#### Какой рекламный канал принёс больше всего дохода за всё время? Ответ: Яндекс"
   ]
  },
  {
   "cell_type": "code",
   "execution_count": 3,
   "id": "46889fc2",
   "metadata": {},
   "outputs": [
    {
     "data": {
      "text/html": [
       "<div>\n",
       "<style scoped>\n",
       "    .dataframe tbody tr th:only-of-type {\n",
       "        vertical-align: middle;\n",
       "    }\n",
       "\n",
       "    .dataframe tbody tr th {\n",
       "        vertical-align: top;\n",
       "    }\n",
       "\n",
       "    .dataframe thead th {\n",
       "        text-align: right;\n",
       "    }\n",
       "</style>\n",
       "<table border=\"1\" class=\"dataframe\">\n",
       "  <thead>\n",
       "    <tr style=\"text-align: right;\">\n",
       "      <th></th>\n",
       "      <th>date</th>\n",
       "      <th>source</th>\n",
       "      <th>medium</th>\n",
       "      <th>delivery_available</th>\n",
       "      <th>device_type</th>\n",
       "      <th>promo_activated</th>\n",
       "      <th>filter_used</th>\n",
       "      <th>pageviews</th>\n",
       "      <th>visits</th>\n",
       "      <th>productClick</th>\n",
       "      <th>addToCart</th>\n",
       "      <th>checkout</th>\n",
       "      <th>transactions</th>\n",
       "      <th>revenue</th>\n",
       "    </tr>\n",
       "  </thead>\n",
       "  <tbody>\n",
       "    <tr>\n",
       "      <th>0</th>\n",
       "      <td>2020-05-11</td>\n",
       "      <td>google</td>\n",
       "      <td>organic</td>\n",
       "      <td>Не определено</td>\n",
       "      <td>Десктоп</td>\n",
       "      <td>no</td>\n",
       "      <td>no</td>\n",
       "      <td>3120</td>\n",
       "      <td>1233</td>\n",
       "      <td>5240</td>\n",
       "      <td>1048</td>\n",
       "      <td>525</td>\n",
       "      <td>90</td>\n",
       "      <td>86649.0</td>\n",
       "    </tr>\n",
       "    <tr>\n",
       "      <th>1</th>\n",
       "      <td>2020-05-11</td>\n",
       "      <td>yandex</td>\n",
       "      <td>cpc</td>\n",
       "      <td>Не определено</td>\n",
       "      <td>Мобайл</td>\n",
       "      <td>yes</td>\n",
       "      <td>no</td>\n",
       "      <td>3302</td>\n",
       "      <td>544</td>\n",
       "      <td>9930</td>\n",
       "      <td>1984</td>\n",
       "      <td>1416</td>\n",
       "      <td>217</td>\n",
       "      <td>244478.0</td>\n",
       "    </tr>\n",
       "    <tr>\n",
       "      <th>2</th>\n",
       "      <td>2020-05-11</td>\n",
       "      <td>google</td>\n",
       "      <td>cpc</td>\n",
       "      <td>Не определено</td>\n",
       "      <td>Мобайл</td>\n",
       "      <td>no</td>\n",
       "      <td>no</td>\n",
       "      <td>2970</td>\n",
       "      <td>1450</td>\n",
       "      <td>5460</td>\n",
       "      <td>1090</td>\n",
       "      <td>599</td>\n",
       "      <td>100</td>\n",
       "      <td>105150.0</td>\n",
       "    </tr>\n",
       "    <tr>\n",
       "      <th>3</th>\n",
       "      <td>2020-05-11</td>\n",
       "      <td>google</td>\n",
       "      <td>cpc</td>\n",
       "      <td>Не определено</td>\n",
       "      <td>Десктоп</td>\n",
       "      <td>no</td>\n",
       "      <td>no</td>\n",
       "      <td>1875</td>\n",
       "      <td>854</td>\n",
       "      <td>4250</td>\n",
       "      <td>848</td>\n",
       "      <td>407</td>\n",
       "      <td>71</td>\n",
       "      <td>79003.0</td>\n",
       "    </tr>\n",
       "    <tr>\n",
       "      <th>4</th>\n",
       "      <td>2020-05-11</td>\n",
       "      <td>yandex</td>\n",
       "      <td>organic</td>\n",
       "      <td>Не определено</td>\n",
       "      <td>Десктоп</td>\n",
       "      <td>no</td>\n",
       "      <td>no</td>\n",
       "      <td>2159</td>\n",
       "      <td>1000</td>\n",
       "      <td>4110</td>\n",
       "      <td>824</td>\n",
       "      <td>351</td>\n",
       "      <td>62</td>\n",
       "      <td>61861.0</td>\n",
       "    </tr>\n",
       "    <tr>\n",
       "      <th>...</th>\n",
       "      <td>...</td>\n",
       "      <td>...</td>\n",
       "      <td>...</td>\n",
       "      <td>...</td>\n",
       "      <td>...</td>\n",
       "      <td>...</td>\n",
       "      <td>...</td>\n",
       "      <td>...</td>\n",
       "      <td>...</td>\n",
       "      <td>...</td>\n",
       "      <td>...</td>\n",
       "      <td>...</td>\n",
       "      <td>...</td>\n",
       "      <td>...</td>\n",
       "    </tr>\n",
       "    <tr>\n",
       "      <th>52716</th>\n",
       "      <td>2020-06-21</td>\n",
       "      <td>(direct)</td>\n",
       "      <td>(none)</td>\n",
       "      <td>Доставка есть</td>\n",
       "      <td>Мобайл</td>\n",
       "      <td>yes</td>\n",
       "      <td>yes</td>\n",
       "      <td>65</td>\n",
       "      <td>4</td>\n",
       "      <td>250</td>\n",
       "      <td>50</td>\n",
       "      <td>58</td>\n",
       "      <td>4</td>\n",
       "      <td>4821.0</td>\n",
       "    </tr>\n",
       "    <tr>\n",
       "      <th>52717</th>\n",
       "      <td>2020-08-09</td>\n",
       "      <td>co-promo</td>\n",
       "      <td>email</td>\n",
       "      <td>Доставка есть</td>\n",
       "      <td>Мобайл</td>\n",
       "      <td>no</td>\n",
       "      <td>no</td>\n",
       "      <td>43</td>\n",
       "      <td>2</td>\n",
       "      <td>250</td>\n",
       "      <td>50</td>\n",
       "      <td>23</td>\n",
       "      <td>1</td>\n",
       "      <td>7348.0</td>\n",
       "    </tr>\n",
       "    <tr>\n",
       "      <th>52718</th>\n",
       "      <td>2020-09-22</td>\n",
       "      <td>google</td>\n",
       "      <td>cpc</td>\n",
       "      <td>Доставка есть</td>\n",
       "      <td>Мобайл</td>\n",
       "      <td>yes</td>\n",
       "      <td>yes</td>\n",
       "      <td>153</td>\n",
       "      <td>3</td>\n",
       "      <td>250</td>\n",
       "      <td>50</td>\n",
       "      <td>58</td>\n",
       "      <td>1</td>\n",
       "      <td>958.0</td>\n",
       "    </tr>\n",
       "    <tr>\n",
       "      <th>52719</th>\n",
       "      <td>2020-08-25</td>\n",
       "      <td>(direct)</td>\n",
       "      <td>(none)</td>\n",
       "      <td>Не определено</td>\n",
       "      <td>Мобайл</td>\n",
       "      <td>yes</td>\n",
       "      <td>yes</td>\n",
       "      <td>219</td>\n",
       "      <td>8</td>\n",
       "      <td>250</td>\n",
       "      <td>50</td>\n",
       "      <td>45</td>\n",
       "      <td>1</td>\n",
       "      <td>828.0</td>\n",
       "    </tr>\n",
       "    <tr>\n",
       "      <th>52720</th>\n",
       "      <td>2020-03-19</td>\n",
       "      <td>admitad</td>\n",
       "      <td>cpa</td>\n",
       "      <td>Не определено</td>\n",
       "      <td>Десктоп</td>\n",
       "      <td>yes</td>\n",
       "      <td>yes</td>\n",
       "      <td>83</td>\n",
       "      <td>5</td>\n",
       "      <td>250</td>\n",
       "      <td>50</td>\n",
       "      <td>25</td>\n",
       "      <td>4</td>\n",
       "      <td>4078.0</td>\n",
       "    </tr>\n",
       "  </tbody>\n",
       "</table>\n",
       "<p>52721 rows × 14 columns</p>\n",
       "</div>"
      ],
      "text/plain": [
       "             date    source   medium delivery_available device_type  \\\n",
       "0      2020-05-11    google  organic      Не определено     Десктоп   \n",
       "1      2020-05-11    yandex      cpc      Не определено      Мобайл   \n",
       "2      2020-05-11    google      cpc      Не определено      Мобайл   \n",
       "3      2020-05-11    google      cpc      Не определено     Десктоп   \n",
       "4      2020-05-11    yandex  organic      Не определено     Десктоп   \n",
       "...           ...       ...      ...                ...         ...   \n",
       "52716  2020-06-21  (direct)   (none)      Доставка есть      Мобайл   \n",
       "52717  2020-08-09  co-promo    email      Доставка есть      Мобайл   \n",
       "52718  2020-09-22    google      cpc      Доставка есть      Мобайл   \n",
       "52719  2020-08-25  (direct)   (none)      Не определено      Мобайл   \n",
       "52720  2020-03-19   admitad      cpa      Не определено     Десктоп   \n",
       "\n",
       "      promo_activated filter_used  pageviews  visits  productClick  addToCart  \\\n",
       "0                  no          no       3120    1233          5240       1048   \n",
       "1                 yes          no       3302     544          9930       1984   \n",
       "2                  no          no       2970    1450          5460       1090   \n",
       "3                  no          no       1875     854          4250        848   \n",
       "4                  no          no       2159    1000          4110        824   \n",
       "...               ...         ...        ...     ...           ...        ...   \n",
       "52716             yes         yes         65       4           250         50   \n",
       "52717              no          no         43       2           250         50   \n",
       "52718             yes         yes        153       3           250         50   \n",
       "52719             yes         yes        219       8           250         50   \n",
       "52720             yes         yes         83       5           250         50   \n",
       "\n",
       "       checkout  transactions   revenue  \n",
       "0           525            90   86649.0  \n",
       "1          1416           217  244478.0  \n",
       "2           599           100  105150.0  \n",
       "3           407            71   79003.0  \n",
       "4           351            62   61861.0  \n",
       "...         ...           ...       ...  \n",
       "52716        58             4    4821.0  \n",
       "52717        23             1    7348.0  \n",
       "52718        58             1     958.0  \n",
       "52719        45             1     828.0  \n",
       "52720        25             4    4078.0  \n",
       "\n",
       "[52721 rows x 14 columns]"
      ]
     },
     "execution_count": 3,
     "metadata": {},
     "output_type": "execute_result"
    }
   ],
   "source": [
    "df = pd.read_csv('summer_camp_data.csv')\n",
    "df"
   ]
  },
  {
   "cell_type": "code",
   "execution_count": 4,
   "id": "f89f10db",
   "metadata": {},
   "outputs": [
    {
     "data": {
      "text/plain": [
       "<AxesSubplot:xlabel='source'>"
      ]
     },
     "execution_count": 4,
     "metadata": {},
     "output_type": "execute_result"
    },
    {
     "data": {
      "image/png": "[encoded data removed]",
      "text/plain": [
       "<Figure size 640x480 with 1 Axes>"
      ]
     },
     "metadata": {},
     "output_type": "display_data"
    }
   ],
   "source": [
    "df.groupby('source').agg(\n",
    "    revenue=pd.NamedAgg(column='revenue', aggfunc='sum')).sort_values(\n",
    "    by=['revenue'], ascending=False).plot(kind='bar')"
   ]
  },
  {
   "cell_type": "markdown",
   "id": "7f816131",
   "metadata": {},
   "source": [
    "#### Как изменился средний чек транзакции после введения коронавирусных ограничений? Ответ: В 1.08 раз средний чек выше без ограничений из-за коронавируса"
   ]
  },
  {
   "cell_type": "markdown",
   "id": "5070989a",
   "metadata": {},
   "source": [
    "Создадим 2 новые колонки: средний чек на каждый день и колонку corona_limits (есть или нет ограничения в этот день). \n",
    "Дни ограничений в промежутке с '2020-03-15' до '2022-07-02'"
   ]
  },
  {
   "cell_type": "code",
   "execution_count": 5,
   "id": "098cbb6c",
   "metadata": {},
   "outputs": [],
   "source": [
    "df['average_check'] = df['revenue']/df['transactions']"
   ]
  },
  {
   "cell_type": "code",
   "execution_count": 6,
   "id": "ab3a79d6",
   "metadata": {},
   "outputs": [
    {
     "data": {
      "text/html": [
       "<div>\n",
       "<style scoped>\n",
       "    .dataframe tbody tr th:only-of-type {\n",
       "        vertical-align: middle;\n",
       "    }\n",
       "\n",
       "    .dataframe tbody tr th {\n",
       "        vertical-align: top;\n",
       "    }\n",
       "\n",
       "    .dataframe thead th {\n",
       "        text-align: right;\n",
       "    }\n",
       "</style>\n",
       "<table border=\"1\" class=\"dataframe\">\n",
       "  <thead>\n",
       "    <tr style=\"text-align: right;\">\n",
       "      <th></th>\n",
       "      <th>date</th>\n",
       "      <th>source</th>\n",
       "      <th>medium</th>\n",
       "      <th>delivery_available</th>\n",
       "      <th>device_type</th>\n",
       "      <th>promo_activated</th>\n",
       "      <th>filter_used</th>\n",
       "      <th>pageviews</th>\n",
       "      <th>visits</th>\n",
       "      <th>productClick</th>\n",
       "      <th>addToCart</th>\n",
       "      <th>checkout</th>\n",
       "      <th>transactions</th>\n",
       "      <th>revenue</th>\n",
       "      <th>average_check</th>\n",
       "      <th>corona_limits</th>\n",
       "    </tr>\n",
       "  </thead>\n",
       "  <tbody>\n",
       "    <tr>\n",
       "      <th>0</th>\n",
       "      <td>2020-05-11</td>\n",
       "      <td>google</td>\n",
       "      <td>organic</td>\n",
       "      <td>Не определено</td>\n",
       "      <td>Десктоп</td>\n",
       "      <td>no</td>\n",
       "      <td>no</td>\n",
       "      <td>3120</td>\n",
       "      <td>1233</td>\n",
       "      <td>5240</td>\n",
       "      <td>1048</td>\n",
       "      <td>525</td>\n",
       "      <td>90</td>\n",
       "      <td>86649.0</td>\n",
       "      <td>962.766667</td>\n",
       "      <td>True</td>\n",
       "    </tr>\n",
       "    <tr>\n",
       "      <th>1</th>\n",
       "      <td>2020-05-11</td>\n",
       "      <td>yandex</td>\n",
       "      <td>cpc</td>\n",
       "      <td>Не определено</td>\n",
       "      <td>Мобайл</td>\n",
       "      <td>yes</td>\n",
       "      <td>no</td>\n",
       "      <td>3302</td>\n",
       "      <td>544</td>\n",
       "      <td>9930</td>\n",
       "      <td>1984</td>\n",
       "      <td>1416</td>\n",
       "      <td>217</td>\n",
       "      <td>244478.0</td>\n",
       "      <td>1126.626728</td>\n",
       "      <td>True</td>\n",
       "    </tr>\n",
       "    <tr>\n",
       "      <th>2</th>\n",
       "      <td>2020-05-11</td>\n",
       "      <td>google</td>\n",
       "      <td>cpc</td>\n",
       "      <td>Не определено</td>\n",
       "      <td>Мобайл</td>\n",
       "      <td>no</td>\n",
       "      <td>no</td>\n",
       "      <td>2970</td>\n",
       "      <td>1450</td>\n",
       "      <td>5460</td>\n",
       "      <td>1090</td>\n",
       "      <td>599</td>\n",
       "      <td>100</td>\n",
       "      <td>105150.0</td>\n",
       "      <td>1051.500000</td>\n",
       "      <td>True</td>\n",
       "    </tr>\n",
       "    <tr>\n",
       "      <th>3</th>\n",
       "      <td>2020-05-11</td>\n",
       "      <td>google</td>\n",
       "      <td>cpc</td>\n",
       "      <td>Не определено</td>\n",
       "      <td>Десктоп</td>\n",
       "      <td>no</td>\n",
       "      <td>no</td>\n",
       "      <td>1875</td>\n",
       "      <td>854</td>\n",
       "      <td>4250</td>\n",
       "      <td>848</td>\n",
       "      <td>407</td>\n",
       "      <td>71</td>\n",
       "      <td>79003.0</td>\n",
       "      <td>1112.718310</td>\n",
       "      <td>True</td>\n",
       "    </tr>\n",
       "    <tr>\n",
       "      <th>4</th>\n",
       "      <td>2020-05-11</td>\n",
       "      <td>yandex</td>\n",
       "      <td>organic</td>\n",
       "      <td>Не определено</td>\n",
       "      <td>Десктоп</td>\n",
       "      <td>no</td>\n",
       "      <td>no</td>\n",
       "      <td>2159</td>\n",
       "      <td>1000</td>\n",
       "      <td>4110</td>\n",
       "      <td>824</td>\n",
       "      <td>351</td>\n",
       "      <td>62</td>\n",
       "      <td>61861.0</td>\n",
       "      <td>997.758065</td>\n",
       "      <td>True</td>\n",
       "    </tr>\n",
       "    <tr>\n",
       "      <th>...</th>\n",
       "      <td>...</td>\n",
       "      <td>...</td>\n",
       "      <td>...</td>\n",
       "      <td>...</td>\n",
       "      <td>...</td>\n",
       "      <td>...</td>\n",
       "      <td>...</td>\n",
       "      <td>...</td>\n",
       "      <td>...</td>\n",
       "      <td>...</td>\n",
       "      <td>...</td>\n",
       "      <td>...</td>\n",
       "      <td>...</td>\n",
       "      <td>...</td>\n",
       "      <td>...</td>\n",
       "      <td>...</td>\n",
       "    </tr>\n",
       "    <tr>\n",
       "      <th>52716</th>\n",
       "      <td>2020-06-21</td>\n",
       "      <td>(direct)</td>\n",
       "      <td>(none)</td>\n",
       "      <td>Доставка есть</td>\n",
       "      <td>Мобайл</td>\n",
       "      <td>yes</td>\n",
       "      <td>yes</td>\n",
       "      <td>65</td>\n",
       "      <td>4</td>\n",
       "      <td>250</td>\n",
       "      <td>50</td>\n",
       "      <td>58</td>\n",
       "      <td>4</td>\n",
       "      <td>4821.0</td>\n",
       "      <td>1205.250000</td>\n",
       "      <td>True</td>\n",
       "    </tr>\n",
       "    <tr>\n",
       "      <th>52717</th>\n",
       "      <td>2020-08-09</td>\n",
       "      <td>co-promo</td>\n",
       "      <td>email</td>\n",
       "      <td>Доставка есть</td>\n",
       "      <td>Мобайл</td>\n",
       "      <td>no</td>\n",
       "      <td>no</td>\n",
       "      <td>43</td>\n",
       "      <td>2</td>\n",
       "      <td>250</td>\n",
       "      <td>50</td>\n",
       "      <td>23</td>\n",
       "      <td>1</td>\n",
       "      <td>7348.0</td>\n",
       "      <td>7348.000000</td>\n",
       "      <td>True</td>\n",
       "    </tr>\n",
       "    <tr>\n",
       "      <th>52718</th>\n",
       "      <td>2020-09-22</td>\n",
       "      <td>google</td>\n",
       "      <td>cpc</td>\n",
       "      <td>Доставка есть</td>\n",
       "      <td>Мобайл</td>\n",
       "      <td>yes</td>\n",
       "      <td>yes</td>\n",
       "      <td>153</td>\n",
       "      <td>3</td>\n",
       "      <td>250</td>\n",
       "      <td>50</td>\n",
       "      <td>58</td>\n",
       "      <td>1</td>\n",
       "      <td>958.0</td>\n",
       "      <td>958.000000</td>\n",
       "      <td>True</td>\n",
       "    </tr>\n",
       "    <tr>\n",
       "      <th>52719</th>\n",
       "      <td>2020-08-25</td>\n",
       "      <td>(direct)</td>\n",
       "      <td>(none)</td>\n",
       "      <td>Не определено</td>\n",
       "      <td>Мобайл</td>\n",
       "      <td>yes</td>\n",
       "      <td>yes</td>\n",
       "      <td>219</td>\n",
       "      <td>8</td>\n",
       "      <td>250</td>\n",
       "      <td>50</td>\n",
       "      <td>45</td>\n",
       "      <td>1</td>\n",
       "      <td>828.0</td>\n",
       "      <td>828.000000</td>\n",
       "      <td>True</td>\n",
       "    </tr>\n",
       "    <tr>\n",
       "      <th>52720</th>\n",
       "      <td>2020-03-19</td>\n",
       "      <td>admitad</td>\n",
       "      <td>cpa</td>\n",
       "      <td>Не определено</td>\n",
       "      <td>Десктоп</td>\n",
       "      <td>yes</td>\n",
       "      <td>yes</td>\n",
       "      <td>83</td>\n",
       "      <td>5</td>\n",
       "      <td>250</td>\n",
       "      <td>50</td>\n",
       "      <td>25</td>\n",
       "      <td>4</td>\n",
       "      <td>4078.0</td>\n",
       "      <td>1019.500000</td>\n",
       "      <td>True</td>\n",
       "    </tr>\n",
       "  </tbody>\n",
       "</table>\n",
       "<p>52721 rows × 16 columns</p>\n",
       "</div>"
      ],
      "text/plain": [
       "             date    source   medium delivery_available device_type  \\\n",
       "0      2020-05-11    google  organic      Не определено     Десктоп   \n",
       "1      2020-05-11    yandex      cpc      Не определено      Мобайл   \n",
       "2      2020-05-11    google      cpc      Не определено      Мобайл   \n",
       "3      2020-05-11    google      cpc      Не определено     Десктоп   \n",
       "4      2020-05-11    yandex  organic      Не определено     Десктоп   \n",
       "...           ...       ...      ...                ...         ...   \n",
       "52716  2020-06-21  (direct)   (none)      Доставка есть      Мобайл   \n",
       "52717  2020-08-09  co-promo    email      Доставка есть      Мобайл   \n",
       "52718  2020-09-22    google      cpc      Доставка есть      Мобайл   \n",
       "52719  2020-08-25  (direct)   (none)      Не определено      Мобайл   \n",
       "52720  2020-03-19   admitad      cpa      Не определено     Десктоп   \n",
       "\n",
       "      promo_activated filter_used  pageviews  visits  productClick  addToCart  \\\n",
       "0                  no          no       3120    1233          5240       1048   \n",
       "1                 yes          no       3302     544          9930       1984   \n",
       "2                  no          no       2970    1450          5460       1090   \n",
       "3                  no          no       1875     854          4250        848   \n",
       "4                  no          no       2159    1000          4110        824   \n",
       "...               ...         ...        ...     ...           ...        ...   \n",
       "52716             yes         yes         65       4           250         50   \n",
       "52717              no          no         43       2           250         50   \n",
       "52718             yes         yes        153       3           250         50   \n",
       "52719             yes         yes        219       8           250         50   \n",
       "52720             yes         yes         83       5           250         50   \n",
       "\n",
       "       checkout  transactions   revenue  average_check  corona_limits  \n",
       "0           525            90   86649.0     962.766667           True  \n",
       "1          1416           217  244478.0    1126.626728           True  \n",
       "2           599           100  105150.0    1051.500000           True  \n",
       "3           407            71   79003.0    1112.718310           True  \n",
       "4           351            62   61861.0     997.758065           True  \n",
       "...         ...           ...       ...            ...            ...  \n",
       "52716        58             4    4821.0    1205.250000           True  \n",
       "52717        23             1    7348.0    7348.000000           True  \n",
       "52718        58             1     958.0     958.000000           True  \n",
       "52719        45             1     828.0     828.000000           True  \n",
       "52720        25             4    4078.0    1019.500000           True  \n",
       "\n",
       "[52721 rows x 16 columns]"
      ]
     },
     "execution_count": 6,
     "metadata": {},
     "output_type": "execute_result"
    }
   ],
   "source": [
    "df['corona_limits'] = np.where((df['date'] > '2020-03-15') & (df['date'] <= '2022-07-02'), True, False)\n",
    "df"
   ]
  },
  {
   "cell_type": "code",
   "execution_count": 7,
   "id": "eeae9b10",
   "metadata": {},
   "outputs": [
    {
     "data": {
      "text/plain": [
       "1193.6272879539629"
      ]
     },
     "execution_count": 7,
     "metadata": {},
     "output_type": "execute_result"
    }
   ],
   "source": [
    "mean_with_corona = df[df['corona_limits'] == True].average_check.mean()\n",
    "mean_with_corona"
   ]
  },
  {
   "cell_type": "code",
   "execution_count": 8,
   "id": "8bb6cedd",
   "metadata": {},
   "outputs": [
    {
     "data": {
      "text/plain": [
       "1292.789925364841"
      ]
     },
     "execution_count": 8,
     "metadata": {},
     "output_type": "execute_result"
    }
   ],
   "source": [
    "mean_without_corona = df[df['corona_limits'] == False].average_check.mean()\n",
    "mean_without_corona"
   ]
  },
  {
   "cell_type": "code",
   "execution_count": 9,
   "id": "566fa7b9",
   "metadata": {},
   "outputs": [
    {
     "name": "stdout",
     "output_type": "stream",
     "text": [
      "В 108.31 раз средний чек выше без ограничений из-за коронавируса\n"
     ]
    }
   ],
   "source": [
    "difference = round(mean_without_corona / mean_with_corona * 100, 2)\n",
    "print('В {} раз средний чек выше без ограничений из-за коронавируса'.format(difference))"
   ]
  },
  {
   "cell_type": "markdown",
   "id": "f815f2c9",
   "metadata": {},
   "source": [
    "#### Как средний чек изменился для пользователей, покупающих с промокодом и без? (параметр «promo_activated»)"
   ]
  },
  {
   "cell_type": "code",
   "execution_count": 10,
   "id": "fa59bf6a",
   "metadata": {},
   "outputs": [],
   "source": [
    "# Средний чек с промокодом и с короновирусом: \n",
    "promo_yes_corona_yes = df[(df['corona_limits'] == True) & (df['promo_activated'] == 'yes')].average_check.mean()"
   ]
  },
  {
   "cell_type": "code",
   "execution_count": 11,
   "id": "5d8c79c4",
   "metadata": {},
   "outputs": [],
   "source": [
    "# Средний чек с промокодом и без коронавируса: \n",
    "promo_yes_corona_no = df[(df['corona_limits'] == False) & (df['promo_activated'] == 'yes')].average_check.mean()"
   ]
  },
  {
   "cell_type": "code",
   "execution_count": 12,
   "id": "297eb356",
   "metadata": {},
   "outputs": [
    {
     "name": "stdout",
     "output_type": "stream",
     "text": [
      "Пользователи с промокодом стали покупать в 5.45 % меньше во времен коронавируса\n"
     ]
    }
   ],
   "source": [
    "print('Пользователи с промокодом стали покупать в {} % меньше во времен коронавируса'.format(\n",
    "    round((1-promo_yes_corona_yes/promo_yes_corona_no) * 100, 2)))"
   ]
  },
  {
   "cell_type": "code",
   "execution_count": 13,
   "id": "1549a7b8",
   "metadata": {},
   "outputs": [],
   "source": [
    "# Средний чек без промокода и с короновирусом: \n",
    "promo_no_corona_yes = df[(df['corona_limits'] == True) & (df['promo_activated'] == 'no')].average_check.mean()"
   ]
  },
  {
   "cell_type": "code",
   "execution_count": 14,
   "id": "154c3259",
   "metadata": {},
   "outputs": [],
   "source": [
    "# Средний чек без промокода и без коронавируса:\n",
    "promo_no_corona_no = df[(df['corona_limits'] == False) & (df['promo_activated'] == 'no')].average_check.mean()"
   ]
  },
  {
   "cell_type": "code",
   "execution_count": 15,
   "id": "b21cf2f8",
   "metadata": {},
   "outputs": [
    {
     "name": "stdout",
     "output_type": "stream",
     "text": [
      "Пользователи без промокода стали покупать в 9.9 % меньше во времен коронавируса\n"
     ]
    }
   ],
   "source": [
    "print('Пользователи без промокода стали покупать в {} % меньше во времен коронавируса'.format(\n",
    "    round((1-promo_no_corona_yes/promo_no_corona_no) * 100, 2)))"
   ]
  },
  {
   "cell_type": "markdown",
   "id": "5b4c1cb5",
   "metadata": {},
   "source": [
    "#### Можно ли с уверенностью в 95% сказать, что CR (коэффициент конверсии в транзакцию) в выходные дни отличается от CR в будние дни? Ответ: да, p-value < 0,05"
   ]
  },
  {
   "cell_type": "code",
   "execution_count": 16,
   "id": "473280bc",
   "metadata": {},
   "outputs": [],
   "source": [
    "df['dayOfWeek'] = pd.to_datetime(df['date']).dt.dayofweek"
   ]
  },
  {
   "cell_type": "code",
   "execution_count": 17,
   "id": "fdb9da75",
   "metadata": {},
   "outputs": [
    {
     "data": {
      "text/plain": [
       "6333926"
      ]
     },
     "execution_count": 17,
     "metadata": {},
     "output_type": "execute_result"
    }
   ],
   "source": [
    "addToCart_workday = df[(df['dayOfWeek'] >= 0) & (df['dayOfWeek'] < 5)].addToCart.sum()\n",
    "addToCart_workday"
   ]
  },
  {
   "cell_type": "code",
   "execution_count": 18,
   "id": "69605537",
   "metadata": {},
   "outputs": [
    {
     "data": {
      "text/plain": [
       "691164"
      ]
     },
     "execution_count": 18,
     "metadata": {},
     "output_type": "execute_result"
    }
   ],
   "source": [
    "transactions_workday = df[(df['dayOfWeek'] >= 0) & (df['dayOfWeek'] < 5)].transactions.sum()\n",
    "transactions_workday"
   ]
  },
  {
   "cell_type": "code",
   "execution_count": 19,
   "id": "0dfe3fe9",
   "metadata": {},
   "outputs": [
    {
     "data": {
      "text/plain": [
       "3049076"
      ]
     },
     "execution_count": 19,
     "metadata": {},
     "output_type": "execute_result"
    }
   ],
   "source": [
    "addToCart_weekday = df[(df['dayOfWeek'] == 5) | (df['dayOfWeek'] == 6)].addToCart.sum()\n",
    "addToCart_weekday"
   ]
  },
  {
   "cell_type": "code",
   "execution_count": 20,
   "id": "9b155820",
   "metadata": {},
   "outputs": [
    {
     "data": {
      "text/plain": [
       "367813"
      ]
     },
     "execution_count": 20,
     "metadata": {},
     "output_type": "execute_result"
    }
   ],
   "source": [
    "transactions_weekday = df[(df['dayOfWeek'] == 5) | (df['dayOfWeek'] == 6)].transactions.sum()\n",
    "transactions_weekday"
   ]
  },
  {
   "cell_type": "code",
   "execution_count": 21,
   "id": "162be79d",
   "metadata": {},
   "outputs": [
    {
     "name": "stdout",
     "output_type": "stream",
     "text": [
      "p_value: 0.00000\n"
     ]
    }
   ],
   "source": [
    "from statsmodels.stats.proportion import proportions_ztest\n",
    "\n",
    "# транзакции\n",
    "count = np.array([transactions_workday, transactions_weekday]) \n",
    "\n",
    "# добавление в корзину\n",
    "nobs = np.array([addToCart_workday, addToCart_weekday])\n",
    "\n",
    "stat, pval = proportions_ztest(count, nobs)\n",
    "print('p_value: {:0.5f}'.format(pval))"
   ]
  },
  {
   "cell_type": "markdown",
   "id": "5c5eadfb",
   "metadata": {},
   "source": [
    "p-value < .00001, а это значит, что с уверенностью в 95% мы можем сказать сказать, что CR (коэффициент конверсии в транзакцию) в выходные дни отличается от CR в будние дни"
   ]
  },
  {
   "cell_type": "code",
   "execution_count": 22,
   "id": "fe3b0c3a",
   "metadata": {},
   "outputs": [
    {
     "data": {
      "text/plain": [
       "0.5866817626317747"
      ]
     },
     "execution_count": 22,
     "metadata": {},
     "output_type": "execute_result"
    }
   ],
   "source": [
    "x = df.visits\n",
    "y = df.transactions\n",
    "import scipy.stats\n",
    "scipy.stats.pearsonr(x, y)[0] "
   ]
  },
  {
   "cell_type": "markdown",
   "id": "edaf08ed",
   "metadata": {},
   "source": [
    "Присутствует средняя корреляция между визитами и транзакциями в 0,6 величины коэффициента корреляции"
   ]
  }
 ],
 "metadata": {
  "kernelspec": {
   "display_name": "Python 3 (ipykernel)",
   "language": "python",
   "name": "python3"
  },
  "language_info": {
   "codemirror_mode": {
    "name": "ipython",
    "version": 3
   },
   "file_extension": ".py",
   "mimetype": "text/x-python",
   "name": "python",
   "nbconvert_exporter": "python",
   "pygments_lexer": "ipython3",
   "version": "3.9.13"
  }
 },
 "nbformat": 4,
 "nbformat_minor": 5
}
