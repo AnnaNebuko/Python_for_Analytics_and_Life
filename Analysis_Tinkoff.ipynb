{
 "cells": [
  {
   "cell_type": "code",
   "execution_count": 36,
   "id": "6144e916",
   "metadata": {
    "scrolled": true
   },
   "outputs": [],
   "source": [
    "import pandas as pd\n",
    "import numpy as np\n",
    "import matplotlib.pyplot as plt\n",
    "from scipy.stats import norm\n",
    "from tqdm import tqdm\n",
    "import matplotlib.pyplot as plt"
   ]
  },
  {
   "cell_type": "code",
   "execution_count": 37,
   "id": "377d6b47",
   "metadata": {
    "scrolled": true
   },
   "outputs": [],
   "source": [
    "all = pd.read_excel('анализ.xlsx')"
   ]
  },
  {
   "cell_type": "code",
   "execution_count": 38,
   "id": "a518335c",
   "metadata": {
    "scrolled": true
   },
   "outputs": [
    {
     "data": {
      "text/plain": [
       "89172"
      ]
     },
     "execution_count": 38,
     "metadata": {},
     "output_type": "execute_result"
    }
   ],
   "source": [
    "all_calls = len(all.index)\n",
    "all_calls"
   ]
  },
  {
   "cell_type": "code",
   "execution_count": 39,
   "id": "b2084cb6",
   "metadata": {
    "scrolled": true
   },
   "outputs": [
    {
     "data": {
      "text/plain": [
       "38555"
      ]
     },
     "execution_count": 39,
     "metadata": {},
     "output_type": "execute_result"
    }
   ],
   "source": [
    "answered_calls = len(all[(all['hit_status_result_desc'] == 'Дозвон, Отказ') |\n",
    "    (all['hit_status_result_desc'] == 'Дозвон, Успешно') |\n",
    "    (all['hit_status_result_desc'] == 'Дозвон, Перезвонить') |\n",
    "    (all['hit_status_result_desc'] == 'Дозвон, Отложить')].index)\n",
    "answered_calls"
   ]
  },
  {
   "cell_type": "code",
   "execution_count": 40,
   "id": "468e3b55",
   "metadata": {
    "scrolled": true
   },
   "outputs": [
    {
     "data": {
      "text/plain": [
       "0.43236666218095365"
      ]
     },
     "execution_count": 40,
     "metadata": {},
     "output_type": "execute_result"
    }
   ],
   "source": [
    "answered_calls/all_calls"
   ]
  },
  {
   "cell_type": "markdown",
   "id": "0ccd86e0",
   "metadata": {},
   "source": [
    "### Анализ операторов "
   ]
  },
  {
   "cell_type": "code",
   "execution_count": 41,
   "id": "6e73e38c",
   "metadata": {
    "scrolled": true
   },
   "outputs": [],
   "source": [
    "table_results = pd.pivot_table(all, index='agent_login', values = 'wo_employee_rk',\n",
    "                       columns=['hit_status_result_desc'], aggfunc='count')"
   ]
  },
  {
   "cell_type": "code",
   "execution_count": 42,
   "id": "5a197545",
   "metadata": {
    "scrolled": false
   },
   "outputs": [
    {
     "data": {
      "text/html": [
       "<div>\n",
       "<style scoped>\n",
       "    .dataframe tbody tr th:only-of-type {\n",
       "        vertical-align: middle;\n",
       "    }\n",
       "\n",
       "    .dataframe tbody tr th {\n",
       "        vertical-align: top;\n",
       "    }\n",
       "\n",
       "    .dataframe thead th {\n",
       "        text-align: right;\n",
       "    }\n",
       "</style>\n",
       "<table border=\"1\" class=\"dataframe\">\n",
       "  <thead>\n",
       "    <tr style=\"text-align: right;\">\n",
       "      <th>hit_status_result_desc</th>\n",
       "      <th>Дозвон, Некорректное задание по звонку</th>\n",
       "      <th>Дозвон, Отказ</th>\n",
       "      <th>Дозвон, Отложить</th>\n",
       "      <th>Дозвон, Перезвонить</th>\n",
       "      <th>Дозвон, Успешно</th>\n",
       "      <th>Не было звонка</th>\n",
       "      <th>Недозвон</th>\n",
       "    </tr>\n",
       "    <tr>\n",
       "      <th>agent_login</th>\n",
       "      <th></th>\n",
       "      <th></th>\n",
       "      <th></th>\n",
       "      <th></th>\n",
       "      <th></th>\n",
       "      <th></th>\n",
       "      <th></th>\n",
       "    </tr>\n",
       "  </thead>\n",
       "  <tbody>\n",
       "    <tr>\n",
       "      <th>0018lash</th>\n",
       "      <td>NaN</td>\n",
       "      <td>NaN</td>\n",
       "      <td>NaN</td>\n",
       "      <td>3.0</td>\n",
       "      <td>2.0</td>\n",
       "      <td>NaN</td>\n",
       "      <td>3.0</td>\n",
       "    </tr>\n",
       "    <tr>\n",
       "      <th>0033makn</th>\n",
       "      <td>NaN</td>\n",
       "      <td>21.0</td>\n",
       "      <td>4.0</td>\n",
       "      <td>14.0</td>\n",
       "      <td>NaN</td>\n",
       "      <td>NaN</td>\n",
       "      <td>80.0</td>\n",
       "    </tr>\n",
       "    <tr>\n",
       "      <th>0036gkar</th>\n",
       "      <td>NaN</td>\n",
       "      <td>15.0</td>\n",
       "      <td>3.0</td>\n",
       "      <td>5.0</td>\n",
       "      <td>3.0</td>\n",
       "      <td>NaN</td>\n",
       "      <td>21.0</td>\n",
       "    </tr>\n",
       "    <tr>\n",
       "      <th>0062mgme</th>\n",
       "      <td>NaN</td>\n",
       "      <td>8.0</td>\n",
       "      <td>2.0</td>\n",
       "      <td>11.0</td>\n",
       "      <td>1.0</td>\n",
       "      <td>NaN</td>\n",
       "      <td>1.0</td>\n",
       "    </tr>\n",
       "    <tr>\n",
       "      <th>0080ovma</th>\n",
       "      <td>NaN</td>\n",
       "      <td>NaN</td>\n",
       "      <td>NaN</td>\n",
       "      <td>84.0</td>\n",
       "      <td>NaN</td>\n",
       "      <td>NaN</td>\n",
       "      <td>NaN</td>\n",
       "    </tr>\n",
       "    <tr>\n",
       "      <th>...</th>\n",
       "      <td>...</td>\n",
       "      <td>...</td>\n",
       "      <td>...</td>\n",
       "      <td>...</td>\n",
       "      <td>...</td>\n",
       "      <td>...</td>\n",
       "      <td>...</td>\n",
       "    </tr>\n",
       "    <tr>\n",
       "      <th>zyanezhr</th>\n",
       "      <td>NaN</td>\n",
       "      <td>20.0</td>\n",
       "      <td>2.0</td>\n",
       "      <td>20.0</td>\n",
       "      <td>2.0</td>\n",
       "      <td>NaN</td>\n",
       "      <td>62.0</td>\n",
       "    </tr>\n",
       "    <tr>\n",
       "      <th>zyannash</th>\n",
       "      <td>NaN</td>\n",
       "      <td>8.0</td>\n",
       "      <td>1.0</td>\n",
       "      <td>14.0</td>\n",
       "      <td>2.0</td>\n",
       "      <td>NaN</td>\n",
       "      <td>55.0</td>\n",
       "    </tr>\n",
       "    <tr>\n",
       "      <th>zyannosh</th>\n",
       "      <td>NaN</td>\n",
       "      <td>NaN</td>\n",
       "      <td>NaN</td>\n",
       "      <td>NaN</td>\n",
       "      <td>NaN</td>\n",
       "      <td>NaN</td>\n",
       "      <td>59.0</td>\n",
       "    </tr>\n",
       "    <tr>\n",
       "      <th>zyannsni</th>\n",
       "      <td>NaN</td>\n",
       "      <td>2.0</td>\n",
       "      <td>2.0</td>\n",
       "      <td>1.0</td>\n",
       "      <td>1.0</td>\n",
       "      <td>NaN</td>\n",
       "      <td>3.0</td>\n",
       "    </tr>\n",
       "    <tr>\n",
       "      <th>zyansdpl</th>\n",
       "      <td>NaN</td>\n",
       "      <td>13.0</td>\n",
       "      <td>1.0</td>\n",
       "      <td>15.0</td>\n",
       "      <td>3.0</td>\n",
       "      <td>NaN</td>\n",
       "      <td>64.0</td>\n",
       "    </tr>\n",
       "  </tbody>\n",
       "</table>\n",
       "<p>1962 rows × 7 columns</p>\n",
       "</div>"
      ],
      "text/plain": [
       "hit_status_result_desc  Дозвон, Некорректное задание по звонку  Дозвон, Отказ  \\\n",
       "agent_login                                                                     \n",
       "0018lash                                                   NaN            NaN   \n",
       "0033makn                                                   NaN           21.0   \n",
       "0036gkar                                                   NaN           15.0   \n",
       "0062mgme                                                   NaN            8.0   \n",
       "0080ovma                                                   NaN            NaN   \n",
       "...                                                        ...            ...   \n",
       "zyanezhr                                                   NaN           20.0   \n",
       "zyannash                                                   NaN            8.0   \n",
       "zyannosh                                                   NaN            NaN   \n",
       "zyannsni                                                   NaN            2.0   \n",
       "zyansdpl                                                   NaN           13.0   \n",
       "\n",
       "hit_status_result_desc  Дозвон, Отложить  Дозвон, Перезвонить  \\\n",
       "agent_login                                                     \n",
       "0018lash                             NaN                  3.0   \n",
       "0033makn                             4.0                 14.0   \n",
       "0036gkar                             3.0                  5.0   \n",
       "0062mgme                             2.0                 11.0   \n",
       "0080ovma                             NaN                 84.0   \n",
       "...                                  ...                  ...   \n",
       "zyanezhr                             2.0                 20.0   \n",
       "zyannash                             1.0                 14.0   \n",
       "zyannosh                             NaN                  NaN   \n",
       "zyannsni                             2.0                  1.0   \n",
       "zyansdpl                             1.0                 15.0   \n",
       "\n",
       "hit_status_result_desc  Дозвон, Успешно  Не было звонка  Недозвон  \n",
       "agent_login                                                        \n",
       "0018lash                            2.0             NaN       3.0  \n",
       "0033makn                            NaN             NaN      80.0  \n",
       "0036gkar                            3.0             NaN      21.0  \n",
       "0062mgme                            1.0             NaN       1.0  \n",
       "0080ovma                            NaN             NaN       NaN  \n",
       "...                                 ...             ...       ...  \n",
       "zyanezhr                            2.0             NaN      62.0  \n",
       "zyannash                            2.0             NaN      55.0  \n",
       "zyannosh                            NaN             NaN      59.0  \n",
       "zyannsni                            1.0             NaN       3.0  \n",
       "zyansdpl                            3.0             NaN      64.0  \n",
       "\n",
       "[1962 rows x 7 columns]"
      ]
     },
     "execution_count": 42,
     "metadata": {},
     "output_type": "execute_result"
    }
   ],
   "source": [
    "table_results"
   ]
  },
  {
   "cell_type": "markdown",
   "id": "86b115e8",
   "metadata": {},
   "source": [
    "#### Заполнение 0 всех nan значений"
   ]
  },
  {
   "cell_type": "code",
   "execution_count": 43,
   "id": "77acddf6",
   "metadata": {
    "scrolled": true
   },
   "outputs": [],
   "source": [
    "def fill_column_held_up_phone(row):\n",
    "    result = 0\n",
    "    if pd.notnull(row['Дозвон, Отказ']):\n",
    "        result+=row['Дозвон, Отказ']\n",
    "    if pd.notnull(row['Дозвон, Успешно']):\n",
    "        result+=row['Дозвон, Успешно']\n",
    "    if pd.notnull(row['Дозвон, Перезвонить']):\n",
    "        result+=row['Дозвон, Перезвонить']\n",
    "    if pd.notnull(row['Дозвон, Отложить']):\n",
    "        result+=row['Дозвон, Отложить']\n",
    "    return result\n",
    "\n",
    "def fill_column_calls_all_count(row):\n",
    "    result = 0\n",
    "    if pd.notnull(row['Дозвон, Отказ']):\n",
    "        result+=row['Дозвон, Отказ']\n",
    "    if pd.notnull(row['Дозвон, Успешно']):\n",
    "        result+=row['Дозвон, Успешно']\n",
    "    if pd.notnull(row['Дозвон, Перезвонить']):\n",
    "        result+=row['Дозвон, Перезвонить']\n",
    "    if pd.notnull(row['Дозвон, Отложить']):\n",
    "        result+=row['Дозвон, Отложить']\n",
    "    if pd.notnull(row['Дозвон, Некорректное задание по звонку']):\n",
    "        result+=row['Дозвон, Некорректное задание по звонку']\n",
    "    if pd.notnull(row['Не было звонка']):\n",
    "        result+=row['Не было звонка']\n",
    "    if pd.notnull(row['Недозвон']):\n",
    "        result+=row['Недозвон']\n",
    "    return result"
   ]
  },
  {
   "cell_type": "code",
   "execution_count": 44,
   "id": "655828d3",
   "metadata": {
    "scrolled": true
   },
   "outputs": [],
   "source": [
    "table_results['Всего звонков'] = table_results.apply(fill_column_calls_all_count, axis=1)"
   ]
  },
  {
   "cell_type": "code",
   "execution_count": 45,
   "id": "6e6b9edd",
   "metadata": {
    "scrolled": true
   },
   "outputs": [],
   "source": [
    "table_results['Дозвон'] = table_results.apply(fill_column_held_up_phone, axis=1)"
   ]
  },
  {
   "cell_type": "code",
   "execution_count": 46,
   "id": "29293e5a",
   "metadata": {
    "scrolled": true
   },
   "outputs": [
    {
     "data": {
      "text/html": [
       "<div>\n",
       "<style scoped>\n",
       "    .dataframe tbody tr th:only-of-type {\n",
       "        vertical-align: middle;\n",
       "    }\n",
       "\n",
       "    .dataframe tbody tr th {\n",
       "        vertical-align: top;\n",
       "    }\n",
       "\n",
       "    .dataframe thead th {\n",
       "        text-align: right;\n",
       "    }\n",
       "</style>\n",
       "<table border=\"1\" class=\"dataframe\">\n",
       "  <thead>\n",
       "    <tr style=\"text-align: right;\">\n",
       "      <th>hit_status_result_desc</th>\n",
       "      <th>Дозвон, Некорректное задание по звонку</th>\n",
       "      <th>Дозвон, Отказ</th>\n",
       "      <th>Дозвон, Отложить</th>\n",
       "      <th>Дозвон, Перезвонить</th>\n",
       "      <th>Дозвон, Успешно</th>\n",
       "      <th>Не было звонка</th>\n",
       "      <th>Недозвон</th>\n",
       "      <th>Всего звонков</th>\n",
       "      <th>Дозвон</th>\n",
       "    </tr>\n",
       "    <tr>\n",
       "      <th>agent_login</th>\n",
       "      <th></th>\n",
       "      <th></th>\n",
       "      <th></th>\n",
       "      <th></th>\n",
       "      <th></th>\n",
       "      <th></th>\n",
       "      <th></th>\n",
       "      <th></th>\n",
       "      <th></th>\n",
       "    </tr>\n",
       "  </thead>\n",
       "  <tbody>\n",
       "    <tr>\n",
       "      <th>0018lash</th>\n",
       "      <td>NaN</td>\n",
       "      <td>NaN</td>\n",
       "      <td>NaN</td>\n",
       "      <td>3.0</td>\n",
       "      <td>2.0</td>\n",
       "      <td>NaN</td>\n",
       "      <td>3.0</td>\n",
       "      <td>8.0</td>\n",
       "      <td>5.0</td>\n",
       "    </tr>\n",
       "    <tr>\n",
       "      <th>0033makn</th>\n",
       "      <td>NaN</td>\n",
       "      <td>21.0</td>\n",
       "      <td>4.0</td>\n",
       "      <td>14.0</td>\n",
       "      <td>NaN</td>\n",
       "      <td>NaN</td>\n",
       "      <td>80.0</td>\n",
       "      <td>119.0</td>\n",
       "      <td>39.0</td>\n",
       "    </tr>\n",
       "    <tr>\n",
       "      <th>0036gkar</th>\n",
       "      <td>NaN</td>\n",
       "      <td>15.0</td>\n",
       "      <td>3.0</td>\n",
       "      <td>5.0</td>\n",
       "      <td>3.0</td>\n",
       "      <td>NaN</td>\n",
       "      <td>21.0</td>\n",
       "      <td>47.0</td>\n",
       "      <td>26.0</td>\n",
       "    </tr>\n",
       "    <tr>\n",
       "      <th>0062mgme</th>\n",
       "      <td>NaN</td>\n",
       "      <td>8.0</td>\n",
       "      <td>2.0</td>\n",
       "      <td>11.0</td>\n",
       "      <td>1.0</td>\n",
       "      <td>NaN</td>\n",
       "      <td>1.0</td>\n",
       "      <td>23.0</td>\n",
       "      <td>22.0</td>\n",
       "    </tr>\n",
       "    <tr>\n",
       "      <th>0080ovma</th>\n",
       "      <td>NaN</td>\n",
       "      <td>NaN</td>\n",
       "      <td>NaN</td>\n",
       "      <td>84.0</td>\n",
       "      <td>NaN</td>\n",
       "      <td>NaN</td>\n",
       "      <td>NaN</td>\n",
       "      <td>84.0</td>\n",
       "      <td>84.0</td>\n",
       "    </tr>\n",
       "    <tr>\n",
       "      <th>...</th>\n",
       "      <td>...</td>\n",
       "      <td>...</td>\n",
       "      <td>...</td>\n",
       "      <td>...</td>\n",
       "      <td>...</td>\n",
       "      <td>...</td>\n",
       "      <td>...</td>\n",
       "      <td>...</td>\n",
       "      <td>...</td>\n",
       "    </tr>\n",
       "    <tr>\n",
       "      <th>zyanezhr</th>\n",
       "      <td>NaN</td>\n",
       "      <td>20.0</td>\n",
       "      <td>2.0</td>\n",
       "      <td>20.0</td>\n",
       "      <td>2.0</td>\n",
       "      <td>NaN</td>\n",
       "      <td>62.0</td>\n",
       "      <td>106.0</td>\n",
       "      <td>44.0</td>\n",
       "    </tr>\n",
       "    <tr>\n",
       "      <th>zyannash</th>\n",
       "      <td>NaN</td>\n",
       "      <td>8.0</td>\n",
       "      <td>1.0</td>\n",
       "      <td>14.0</td>\n",
       "      <td>2.0</td>\n",
       "      <td>NaN</td>\n",
       "      <td>55.0</td>\n",
       "      <td>80.0</td>\n",
       "      <td>25.0</td>\n",
       "    </tr>\n",
       "    <tr>\n",
       "      <th>zyannosh</th>\n",
       "      <td>NaN</td>\n",
       "      <td>NaN</td>\n",
       "      <td>NaN</td>\n",
       "      <td>NaN</td>\n",
       "      <td>NaN</td>\n",
       "      <td>NaN</td>\n",
       "      <td>59.0</td>\n",
       "      <td>59.0</td>\n",
       "      <td>0.0</td>\n",
       "    </tr>\n",
       "    <tr>\n",
       "      <th>zyannsni</th>\n",
       "      <td>NaN</td>\n",
       "      <td>2.0</td>\n",
       "      <td>2.0</td>\n",
       "      <td>1.0</td>\n",
       "      <td>1.0</td>\n",
       "      <td>NaN</td>\n",
       "      <td>3.0</td>\n",
       "      <td>9.0</td>\n",
       "      <td>6.0</td>\n",
       "    </tr>\n",
       "    <tr>\n",
       "      <th>zyansdpl</th>\n",
       "      <td>NaN</td>\n",
       "      <td>13.0</td>\n",
       "      <td>1.0</td>\n",
       "      <td>15.0</td>\n",
       "      <td>3.0</td>\n",
       "      <td>NaN</td>\n",
       "      <td>64.0</td>\n",
       "      <td>96.0</td>\n",
       "      <td>32.0</td>\n",
       "    </tr>\n",
       "  </tbody>\n",
       "</table>\n",
       "<p>1962 rows × 9 columns</p>\n",
       "</div>"
      ],
      "text/plain": [
       "hit_status_result_desc  Дозвон, Некорректное задание по звонку  Дозвон, Отказ  \\\n",
       "agent_login                                                                     \n",
       "0018lash                                                   NaN            NaN   \n",
       "0033makn                                                   NaN           21.0   \n",
       "0036gkar                                                   NaN           15.0   \n",
       "0062mgme                                                   NaN            8.0   \n",
       "0080ovma                                                   NaN            NaN   \n",
       "...                                                        ...            ...   \n",
       "zyanezhr                                                   NaN           20.0   \n",
       "zyannash                                                   NaN            8.0   \n",
       "zyannosh                                                   NaN            NaN   \n",
       "zyannsni                                                   NaN            2.0   \n",
       "zyansdpl                                                   NaN           13.0   \n",
       "\n",
       "hit_status_result_desc  Дозвон, Отложить  Дозвон, Перезвонить  \\\n",
       "agent_login                                                     \n",
       "0018lash                             NaN                  3.0   \n",
       "0033makn                             4.0                 14.0   \n",
       "0036gkar                             3.0                  5.0   \n",
       "0062mgme                             2.0                 11.0   \n",
       "0080ovma                             NaN                 84.0   \n",
       "...                                  ...                  ...   \n",
       "zyanezhr                             2.0                 20.0   \n",
       "zyannash                             1.0                 14.0   \n",
       "zyannosh                             NaN                  NaN   \n",
       "zyannsni                             2.0                  1.0   \n",
       "zyansdpl                             1.0                 15.0   \n",
       "\n",
       "hit_status_result_desc  Дозвон, Успешно  Не было звонка  Недозвон  \\\n",
       "agent_login                                                         \n",
       "0018lash                            2.0             NaN       3.0   \n",
       "0033makn                            NaN             NaN      80.0   \n",
       "0036gkar                            3.0             NaN      21.0   \n",
       "0062mgme                            1.0             NaN       1.0   \n",
       "0080ovma                            NaN             NaN       NaN   \n",
       "...                                 ...             ...       ...   \n",
       "zyanezhr                            2.0             NaN      62.0   \n",
       "zyannash                            2.0             NaN      55.0   \n",
       "zyannosh                            NaN             NaN      59.0   \n",
       "zyannsni                            1.0             NaN       3.0   \n",
       "zyansdpl                            3.0             NaN      64.0   \n",
       "\n",
       "hit_status_result_desc  Всего звонков  Дозвон  \n",
       "agent_login                                    \n",
       "0018lash                          8.0     5.0  \n",
       "0033makn                        119.0    39.0  \n",
       "0036gkar                         47.0    26.0  \n",
       "0062mgme                         23.0    22.0  \n",
       "0080ovma                         84.0    84.0  \n",
       "...                               ...     ...  \n",
       "zyanezhr                        106.0    44.0  \n",
       "zyannash                         80.0    25.0  \n",
       "zyannosh                         59.0     0.0  \n",
       "zyannsni                          9.0     6.0  \n",
       "zyansdpl                         96.0    32.0  \n",
       "\n",
       "[1962 rows x 9 columns]"
      ]
     },
     "execution_count": 46,
     "metadata": {},
     "output_type": "execute_result"
    }
   ],
   "source": [
    "table_results"
   ]
  },
  {
   "cell_type": "markdown",
   "id": "d93f9393",
   "metadata": {},
   "source": [
    "### Ищем результативность операторов"
   ]
  },
  {
   "cell_type": "code",
   "execution_count": 47,
   "id": "01844d91",
   "metadata": {
    "scrolled": true
   },
   "outputs": [],
   "source": [
    "table_results['Результативность'] = round((table_results['Дозвон, Успешно'] / table_results['Дозвон'] * 100), 0)"
   ]
  },
  {
   "cell_type": "code",
   "execution_count": 48,
   "id": "10a8bcc4",
   "metadata": {
    "scrolled": true
   },
   "outputs": [
    {
     "data": {
      "text/plain": [
       "674"
      ]
     },
     "execution_count": 48,
     "metadata": {},
     "output_type": "execute_result"
    }
   ],
   "source": [
    "table_results['Результативность'].isna().sum()"
   ]
  },
  {
   "cell_type": "code",
   "execution_count": 49,
   "id": "688febd9",
   "metadata": {
    "scrolled": true
   },
   "outputs": [],
   "source": [
    "table_results.fillna(0, inplace=True)"
   ]
  },
  {
   "cell_type": "code",
   "execution_count": 50,
   "id": "00572cd6",
   "metadata": {
    "scrolled": false
   },
   "outputs": [
    {
     "data": {
      "text/html": [
       "<div>\n",
       "<style scoped>\n",
       "    .dataframe tbody tr th:only-of-type {\n",
       "        vertical-align: middle;\n",
       "    }\n",
       "\n",
       "    .dataframe tbody tr th {\n",
       "        vertical-align: top;\n",
       "    }\n",
       "\n",
       "    .dataframe thead th {\n",
       "        text-align: right;\n",
       "    }\n",
       "</style>\n",
       "<table border=\"1\" class=\"dataframe\">\n",
       "  <thead>\n",
       "    <tr style=\"text-align: right;\">\n",
       "      <th>hit_status_result_desc</th>\n",
       "      <th>Дозвон, Некорректное задание по звонку</th>\n",
       "      <th>Дозвон, Отказ</th>\n",
       "      <th>Дозвон, Отложить</th>\n",
       "      <th>Дозвон, Перезвонить</th>\n",
       "      <th>Дозвон, Успешно</th>\n",
       "      <th>Не было звонка</th>\n",
       "      <th>Недозвон</th>\n",
       "      <th>Всего звонков</th>\n",
       "      <th>Дозвон</th>\n",
       "      <th>Результативность</th>\n",
       "    </tr>\n",
       "    <tr>\n",
       "      <th>agent_login</th>\n",
       "      <th></th>\n",
       "      <th></th>\n",
       "      <th></th>\n",
       "      <th></th>\n",
       "      <th></th>\n",
       "      <th></th>\n",
       "      <th></th>\n",
       "      <th></th>\n",
       "      <th></th>\n",
       "      <th></th>\n",
       "    </tr>\n",
       "  </thead>\n",
       "  <tbody>\n",
       "    <tr>\n",
       "      <th>0018lash</th>\n",
       "      <td>0.0</td>\n",
       "      <td>0.0</td>\n",
       "      <td>0.0</td>\n",
       "      <td>3.0</td>\n",
       "      <td>2.0</td>\n",
       "      <td>0.0</td>\n",
       "      <td>3.0</td>\n",
       "      <td>8.0</td>\n",
       "      <td>5.0</td>\n",
       "      <td>40.0</td>\n",
       "    </tr>\n",
       "    <tr>\n",
       "      <th>0033makn</th>\n",
       "      <td>0.0</td>\n",
       "      <td>21.0</td>\n",
       "      <td>4.0</td>\n",
       "      <td>14.0</td>\n",
       "      <td>0.0</td>\n",
       "      <td>0.0</td>\n",
       "      <td>80.0</td>\n",
       "      <td>119.0</td>\n",
       "      <td>39.0</td>\n",
       "      <td>0.0</td>\n",
       "    </tr>\n",
       "    <tr>\n",
       "      <th>0036gkar</th>\n",
       "      <td>0.0</td>\n",
       "      <td>15.0</td>\n",
       "      <td>3.0</td>\n",
       "      <td>5.0</td>\n",
       "      <td>3.0</td>\n",
       "      <td>0.0</td>\n",
       "      <td>21.0</td>\n",
       "      <td>47.0</td>\n",
       "      <td>26.0</td>\n",
       "      <td>12.0</td>\n",
       "    </tr>\n",
       "    <tr>\n",
       "      <th>0062mgme</th>\n",
       "      <td>0.0</td>\n",
       "      <td>8.0</td>\n",
       "      <td>2.0</td>\n",
       "      <td>11.0</td>\n",
       "      <td>1.0</td>\n",
       "      <td>0.0</td>\n",
       "      <td>1.0</td>\n",
       "      <td>23.0</td>\n",
       "      <td>22.0</td>\n",
       "      <td>5.0</td>\n",
       "    </tr>\n",
       "    <tr>\n",
       "      <th>0080ovma</th>\n",
       "      <td>0.0</td>\n",
       "      <td>0.0</td>\n",
       "      <td>0.0</td>\n",
       "      <td>84.0</td>\n",
       "      <td>0.0</td>\n",
       "      <td>0.0</td>\n",
       "      <td>0.0</td>\n",
       "      <td>84.0</td>\n",
       "      <td>84.0</td>\n",
       "      <td>0.0</td>\n",
       "    </tr>\n",
       "    <tr>\n",
       "      <th>...</th>\n",
       "      <td>...</td>\n",
       "      <td>...</td>\n",
       "      <td>...</td>\n",
       "      <td>...</td>\n",
       "      <td>...</td>\n",
       "      <td>...</td>\n",
       "      <td>...</td>\n",
       "      <td>...</td>\n",
       "      <td>...</td>\n",
       "      <td>...</td>\n",
       "    </tr>\n",
       "    <tr>\n",
       "      <th>zyanezhr</th>\n",
       "      <td>0.0</td>\n",
       "      <td>20.0</td>\n",
       "      <td>2.0</td>\n",
       "      <td>20.0</td>\n",
       "      <td>2.0</td>\n",
       "      <td>0.0</td>\n",
       "      <td>62.0</td>\n",
       "      <td>106.0</td>\n",
       "      <td>44.0</td>\n",
       "      <td>5.0</td>\n",
       "    </tr>\n",
       "    <tr>\n",
       "      <th>zyannash</th>\n",
       "      <td>0.0</td>\n",
       "      <td>8.0</td>\n",
       "      <td>1.0</td>\n",
       "      <td>14.0</td>\n",
       "      <td>2.0</td>\n",
       "      <td>0.0</td>\n",
       "      <td>55.0</td>\n",
       "      <td>80.0</td>\n",
       "      <td>25.0</td>\n",
       "      <td>8.0</td>\n",
       "    </tr>\n",
       "    <tr>\n",
       "      <th>zyannosh</th>\n",
       "      <td>0.0</td>\n",
       "      <td>0.0</td>\n",
       "      <td>0.0</td>\n",
       "      <td>0.0</td>\n",
       "      <td>0.0</td>\n",
       "      <td>0.0</td>\n",
       "      <td>59.0</td>\n",
       "      <td>59.0</td>\n",
       "      <td>0.0</td>\n",
       "      <td>0.0</td>\n",
       "    </tr>\n",
       "    <tr>\n",
       "      <th>zyannsni</th>\n",
       "      <td>0.0</td>\n",
       "      <td>2.0</td>\n",
       "      <td>2.0</td>\n",
       "      <td>1.0</td>\n",
       "      <td>1.0</td>\n",
       "      <td>0.0</td>\n",
       "      <td>3.0</td>\n",
       "      <td>9.0</td>\n",
       "      <td>6.0</td>\n",
       "      <td>17.0</td>\n",
       "    </tr>\n",
       "    <tr>\n",
       "      <th>zyansdpl</th>\n",
       "      <td>0.0</td>\n",
       "      <td>13.0</td>\n",
       "      <td>1.0</td>\n",
       "      <td>15.0</td>\n",
       "      <td>3.0</td>\n",
       "      <td>0.0</td>\n",
       "      <td>64.0</td>\n",
       "      <td>96.0</td>\n",
       "      <td>32.0</td>\n",
       "      <td>9.0</td>\n",
       "    </tr>\n",
       "  </tbody>\n",
       "</table>\n",
       "<p>1962 rows × 10 columns</p>\n",
       "</div>"
      ],
      "text/plain": [
       "hit_status_result_desc  Дозвон, Некорректное задание по звонку  Дозвон, Отказ  \\\n",
       "agent_login                                                                     \n",
       "0018lash                                                   0.0            0.0   \n",
       "0033makn                                                   0.0           21.0   \n",
       "0036gkar                                                   0.0           15.0   \n",
       "0062mgme                                                   0.0            8.0   \n",
       "0080ovma                                                   0.0            0.0   \n",
       "...                                                        ...            ...   \n",
       "zyanezhr                                                   0.0           20.0   \n",
       "zyannash                                                   0.0            8.0   \n",
       "zyannosh                                                   0.0            0.0   \n",
       "zyannsni                                                   0.0            2.0   \n",
       "zyansdpl                                                   0.0           13.0   \n",
       "\n",
       "hit_status_result_desc  Дозвон, Отложить  Дозвон, Перезвонить  \\\n",
       "agent_login                                                     \n",
       "0018lash                             0.0                  3.0   \n",
       "0033makn                             4.0                 14.0   \n",
       "0036gkar                             3.0                  5.0   \n",
       "0062mgme                             2.0                 11.0   \n",
       "0080ovma                             0.0                 84.0   \n",
       "...                                  ...                  ...   \n",
       "zyanezhr                             2.0                 20.0   \n",
       "zyannash                             1.0                 14.0   \n",
       "zyannosh                             0.0                  0.0   \n",
       "zyannsni                             2.0                  1.0   \n",
       "zyansdpl                             1.0                 15.0   \n",
       "\n",
       "hit_status_result_desc  Дозвон, Успешно  Не было звонка  Недозвон  \\\n",
       "agent_login                                                         \n",
       "0018lash                            2.0             0.0       3.0   \n",
       "0033makn                            0.0             0.0      80.0   \n",
       "0036gkar                            3.0             0.0      21.0   \n",
       "0062mgme                            1.0             0.0       1.0   \n",
       "0080ovma                            0.0             0.0       0.0   \n",
       "...                                 ...             ...       ...   \n",
       "zyanezhr                            2.0             0.0      62.0   \n",
       "zyannash                            2.0             0.0      55.0   \n",
       "zyannosh                            0.0             0.0      59.0   \n",
       "zyannsni                            1.0             0.0       3.0   \n",
       "zyansdpl                            3.0             0.0      64.0   \n",
       "\n",
       "hit_status_result_desc  Всего звонков  Дозвон  Результативность  \n",
       "agent_login                                                      \n",
       "0018lash                          8.0     5.0              40.0  \n",
       "0033makn                        119.0    39.0               0.0  \n",
       "0036gkar                         47.0    26.0              12.0  \n",
       "0062mgme                         23.0    22.0               5.0  \n",
       "0080ovma                         84.0    84.0               0.0  \n",
       "...                               ...     ...               ...  \n",
       "zyanezhr                        106.0    44.0               5.0  \n",
       "zyannash                         80.0    25.0               8.0  \n",
       "zyannosh                         59.0     0.0               0.0  \n",
       "zyannsni                          9.0     6.0              17.0  \n",
       "zyansdpl                         96.0    32.0               9.0  \n",
       "\n",
       "[1962 rows x 10 columns]"
      ]
     },
     "execution_count": 50,
     "metadata": {},
     "output_type": "execute_result"
    }
   ],
   "source": [
    "table_results"
   ]
  },
  {
   "cell_type": "code",
   "execution_count": 51,
   "id": "35fff9ff",
   "metadata": {
    "scrolled": true
   },
   "outputs": [
    {
     "data": {
      "image/png": "[encoded data removed]",
      "text/plain": [
       "<Figure size 640x480 with 1 Axes>"
      ]
     },
     "metadata": {},
     "output_type": "display_data"
    }
   ],
   "source": [
    "efficiency = table_results['Результативность']\n",
    "  \n",
    "# Fit a normal distribution to\n",
    "# the data:\n",
    "# mean and standard deviation\n",
    "mu, std = norm.fit(efficiency) \n",
    "  \n",
    "# Plot the histogram.\n",
    "plt.hist(efficiency, bins=25, density=True, alpha=0.6, color='b')\n",
    "  \n",
    "# Plot the PDF.\n",
    "xmin, xmax = plt.xlim()\n",
    "x = np.linspace(xmin, xmax, 100)\n",
    "p = norm.pdf(x, mu, std)\n",
    "  \n",
    "plt.plot(x, p, 'k', linewidth=2)\n",
    "title = \"Результативность. {:.2f} среднеей значение и {:.2f} стандартное отклонение\".format(mu, std)\n",
    "plt.title(title)\n",
    "  \n",
    "plt.show()"
   ]
  },
  {
   "cell_type": "code",
   "execution_count": 52,
   "id": "7a518b2e",
   "metadata": {
    "scrolled": true
   },
   "outputs": [
    {
     "data": {
      "text/plain": [
       "5.0"
      ]
     },
     "execution_count": 52,
     "metadata": {},
     "output_type": "execute_result"
    }
   ],
   "source": [
    "table_results['Результативность'].median()"
   ]
  },
  {
   "cell_type": "code",
   "execution_count": 58,
   "id": "d83f24a9",
   "metadata": {
    "scrolled": true
   },
   "outputs": [
    {
     "data": {
      "text/html": [
       "<div>\n",
       "<style scoped>\n",
       "    .dataframe tbody tr th:only-of-type {\n",
       "        vertical-align: middle;\n",
       "    }\n",
       "\n",
       "    .dataframe tbody tr th {\n",
       "        vertical-align: top;\n",
       "    }\n",
       "\n",
       "    .dataframe thead th {\n",
       "        text-align: right;\n",
       "    }\n",
       "</style>\n",
       "<table border=\"1\" class=\"dataframe\">\n",
       "  <thead>\n",
       "    <tr style=\"text-align: right;\">\n",
       "      <th>hit_status_result_desc</th>\n",
       "      <th>Дозвон, Некорректное задание по звонку</th>\n",
       "      <th>Дозвон, Отказ</th>\n",
       "      <th>Дозвон, Отложить</th>\n",
       "      <th>Дозвон, Перезвонить</th>\n",
       "      <th>Дозвон, Успешно</th>\n",
       "      <th>Не было звонка</th>\n",
       "      <th>Недозвон</th>\n",
       "      <th>Всего звонков</th>\n",
       "      <th>Дозвон</th>\n",
       "      <th>Результативность</th>\n",
       "      <th>QuantileRank</th>\n",
       "    </tr>\n",
       "    <tr>\n",
       "      <th>agent_login</th>\n",
       "      <th></th>\n",
       "      <th></th>\n",
       "      <th></th>\n",
       "      <th></th>\n",
       "      <th></th>\n",
       "      <th></th>\n",
       "      <th></th>\n",
       "      <th></th>\n",
       "      <th></th>\n",
       "      <th></th>\n",
       "      <th></th>\n",
       "    </tr>\n",
       "  </thead>\n",
       "  <tbody>\n",
       "    <tr>\n",
       "      <th>0018lash</th>\n",
       "      <td>0.0</td>\n",
       "      <td>0.0</td>\n",
       "      <td>0.0</td>\n",
       "      <td>3.0</td>\n",
       "      <td>2.0</td>\n",
       "      <td>0.0</td>\n",
       "      <td>3.0</td>\n",
       "      <td>8.0</td>\n",
       "      <td>5.0</td>\n",
       "      <td>40.0</td>\n",
       "      <td>(20.0, 100.0]</td>\n",
       "    </tr>\n",
       "    <tr>\n",
       "      <th>0033makn</th>\n",
       "      <td>0.0</td>\n",
       "      <td>21.0</td>\n",
       "      <td>4.0</td>\n",
       "      <td>14.0</td>\n",
       "      <td>0.0</td>\n",
       "      <td>0.0</td>\n",
       "      <td>80.0</td>\n",
       "      <td>119.0</td>\n",
       "      <td>39.0</td>\n",
       "      <td>0.0</td>\n",
       "      <td>NaN</td>\n",
       "    </tr>\n",
       "    <tr>\n",
       "      <th>0036gkar</th>\n",
       "      <td>0.0</td>\n",
       "      <td>15.0</td>\n",
       "      <td>3.0</td>\n",
       "      <td>5.0</td>\n",
       "      <td>3.0</td>\n",
       "      <td>0.0</td>\n",
       "      <td>21.0</td>\n",
       "      <td>47.0</td>\n",
       "      <td>26.0</td>\n",
       "      <td>12.0</td>\n",
       "      <td>(10.0, 20.0]</td>\n",
       "    </tr>\n",
       "    <tr>\n",
       "      <th>0062mgme</th>\n",
       "      <td>0.0</td>\n",
       "      <td>8.0</td>\n",
       "      <td>2.0</td>\n",
       "      <td>11.0</td>\n",
       "      <td>1.0</td>\n",
       "      <td>0.0</td>\n",
       "      <td>1.0</td>\n",
       "      <td>23.0</td>\n",
       "      <td>22.0</td>\n",
       "      <td>5.0</td>\n",
       "      <td>(1.999, 6.0]</td>\n",
       "    </tr>\n",
       "    <tr>\n",
       "      <th>0080ovma</th>\n",
       "      <td>0.0</td>\n",
       "      <td>0.0</td>\n",
       "      <td>0.0</td>\n",
       "      <td>84.0</td>\n",
       "      <td>0.0</td>\n",
       "      <td>0.0</td>\n",
       "      <td>0.0</td>\n",
       "      <td>84.0</td>\n",
       "      <td>84.0</td>\n",
       "      <td>0.0</td>\n",
       "      <td>NaN</td>\n",
       "    </tr>\n",
       "  </tbody>\n",
       "</table>\n",
       "</div>"
      ],
      "text/plain": [
       "hit_status_result_desc  Дозвон, Некорректное задание по звонку  Дозвон, Отказ  \\\n",
       "agent_login                                                                     \n",
       "0018lash                                                   0.0            0.0   \n",
       "0033makn                                                   0.0           21.0   \n",
       "0036gkar                                                   0.0           15.0   \n",
       "0062mgme                                                   0.0            8.0   \n",
       "0080ovma                                                   0.0            0.0   \n",
       "\n",
       "hit_status_result_desc  Дозвон, Отложить  Дозвон, Перезвонить  \\\n",
       "agent_login                                                     \n",
       "0018lash                             0.0                  3.0   \n",
       "0033makn                             4.0                 14.0   \n",
       "0036gkar                             3.0                  5.0   \n",
       "0062mgme                             2.0                 11.0   \n",
       "0080ovma                             0.0                 84.0   \n",
       "\n",
       "hit_status_result_desc  Дозвон, Успешно  Не было звонка  Недозвон  \\\n",
       "agent_login                                                         \n",
       "0018lash                            2.0             0.0       3.0   \n",
       "0033makn                            0.0             0.0      80.0   \n",
       "0036gkar                            3.0             0.0      21.0   \n",
       "0062mgme                            1.0             0.0       1.0   \n",
       "0080ovma                            0.0             0.0       0.0   \n",
       "\n",
       "hit_status_result_desc  Всего звонков  Дозвон  Результативность   QuantileRank  \n",
       "agent_login                                                                     \n",
       "0018lash                          8.0     5.0              40.0  (20.0, 100.0]  \n",
       "0033makn                        119.0    39.0               0.0            NaN  \n",
       "0036gkar                         47.0    26.0              12.0   (10.0, 20.0]  \n",
       "0062mgme                         23.0    22.0               5.0   (1.999, 6.0]  \n",
       "0080ovma                         84.0    84.0               0.0            NaN  "
      ]
     },
     "execution_count": 58,
     "metadata": {},
     "output_type": "execute_result"
    }
   ],
   "source": [
    "table_results.head(5)"
   ]
  },
  {
   "cell_type": "markdown",
   "id": "4f5580c1",
   "metadata": {},
   "source": [
    "### Делим операторов, которые что-то продали, на квартили и определяем 25% нахудших"
   ]
  },
  {
   "cell_type": "code",
   "execution_count": 71,
   "id": "87252009",
   "metadata": {
    "scrolled": true
   },
   "outputs": [],
   "source": [
    "not_zero_result = table_results[table_results['Результативность'] != 0]\n",
    "table_results['QuantileRank'] = pd.qcut(not_zero_result['Результативность'], 4)"
   ]
  },
  {
   "cell_type": "code",
   "execution_count": 72,
   "id": "acafeadc",
   "metadata": {
    "scrolled": true
   },
   "outputs": [
    {
     "data": {
      "text/plain": [
       "(1.999, 6.0]     414\n",
       "(20.0, 100.0]    298\n",
       "(10.0, 20.0]     293\n",
       "(6.0, 10.0]      283\n",
       "Name: QuantileRank, dtype: int64"
      ]
     },
     "execution_count": 72,
     "metadata": {},
     "output_type": "execute_result"
    }
   ],
   "source": [
    "table_results['QuantileRank'].value_counts()"
   ]
  },
  {
   "cell_type": "code",
   "execution_count": 73,
   "id": "ba0c92c1",
   "metadata": {},
   "outputs": [],
   "source": [
    "table_results['QuantileRank'] = table_results['QuantileRank'].astype(\"str\")"
   ]
  },
  {
   "cell_type": "code",
   "execution_count": 74,
   "id": "0defcbf0",
   "metadata": {},
   "outputs": [
    {
     "data": {
      "text/plain": [
       "414"
      ]
     },
     "execution_count": 74,
     "metadata": {},
     "output_type": "execute_result"
    }
   ],
   "source": [
    "first25 = table_results[table_results['QuantileRank'] == '(1.999, 6.0]']\n",
    "len(first25)"
   ]
  },
  {
   "cell_type": "markdown",
   "id": "77dd7f40",
   "metadata": {},
   "source": [
    "### Определяем операторов, которые сильно отличаются от других"
   ]
  },
  {
   "cell_type": "markdown",
   "id": "cd2bce8c",
   "metadata": {},
   "source": [
    "### Давайте сделаем нашу выборку результативности нормальной, используя центральную предельную теорему, и далее найдем 1 и 100 процентили. То есть мы найдем, какие значения располагаются в пределах трех стандартных отклонений. Значения меньше 1 процентиля и больше 100 процентиля будут выбросами\n",
    "ЦПТ: Средние выборок будут распределены относительно среднего совокупности примерно по нормальному закону. "
   ]
  },
  {
   "cell_type": "code",
   "execution_count": 87,
   "id": "d49fdb21",
   "metadata": {
    "scrolled": true
   },
   "outputs": [
    {
     "name": "stderr",
     "output_type": "stream",
     "text": [
      "100%|██████████| 100000/100000 [00:05<00:00, 18045.80it/s]\n"
     ]
    },
    {
     "data": {
      "image/png": "[encoded data removed]",
      "text/plain": [
       "<Figure size 640x480 with 1 Axes>"
      ]
     },
     "metadata": {},
     "output_type": "display_data"
    },
    {
     "name": "stdout",
     "output_type": "stream",
     "text": [
      "3.0 11.0\n"
     ]
    }
   ],
   "source": [
    "np.random.seed(1)\n",
    "all_values = table_results['Результативность']\n",
    "\n",
    "sample_mean_values = []\n",
    "\n",
    "for i in tqdm(range(100000)):\n",
    "    sample_n = np.random.choice(all_values, size=100)\n",
    "    sample_mean_values.append(np.median(sample_n))\n",
    "\n",
    "plt.hist(sample_mean_values)\n",
    "plt.show()\n",
    "print(round(np.percentile(sample_mean_values, 1),2), round(np.percentile(sample_mean_values, 100), 2))"
   ]
  },
  {
   "cell_type": "markdown",
   "id": "646f2270",
   "metadata": {},
   "source": [
    "#### Проверка на нормальность распределения:"
   ]
  },
  {
   "cell_type": "code",
   "execution_count": 91,
   "id": "c8349ca7",
   "metadata": {},
   "outputs": [
    {
     "name": "stdout",
     "output_type": "stream",
     "text": [
      "stat=0.6511039137840271, p-value=0.0\n",
      "Ура, распределение нормальное!\n"
     ]
    }
   ],
   "source": [
    "from scipy.stats import shapiro\n",
    "stat, p_value = shapiro(all_values)\n",
    "print(f'stat={stat}, p-value={p_value}')\n",
    "\n",
    "alpha = 0.05\n",
    "if p_value < alpha:\n",
    "    print('Ура, распределение нормальное!')\n",
    "else:\n",
    "    print('Блин, распределение ненормальное!')"
   ]
  },
  {
   "cell_type": "code",
   "execution_count": null,
   "id": "eb43b1b7",
   "metadata": {},
   "outputs": [],
   "source": []
  }
 ],
 "metadata": {
  "kernelspec": {
   "display_name": "Python 3 (ipykernel)",
   "language": "python",
   "name": "python3"
  },
  "language_info": {
   "codemirror_mode": {
    "name": "ipython",
    "version": 3
   },
   "file_extension": ".py",
   "mimetype": "text/x-python",
   "name": "python",
   "nbconvert_exporter": "python",
   "pygments_lexer": "ipython3",
   "version": "3.9.13"
  }
 },
 "nbformat": 4,
 "nbformat_minor": 5
}
