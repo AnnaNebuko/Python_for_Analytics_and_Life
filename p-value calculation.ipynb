{
 "cells": [
  {
   "cell_type": "code",
   "execution_count": 1,
   "id": "856129ae",
   "metadata": {},
   "outputs": [],
   "source": [
    "import pandas as pd\n",
    "\n",
    "ab_data = pd.read_csv('ab_data.csv')"
   ]
  },
  {
   "cell_type": "markdown",
   "id": "396914e3",
   "metadata": {},
   "source": [
    "### Data preparation. Предварительная обработка данных ###"
   ]
  },
  {
   "cell_type": "code",
   "execution_count": 2,
   "id": "1126c791",
   "metadata": {},
   "outputs": [
    {
     "data": {
      "text/html": [
       "<div>\n",
       "<style scoped>\n",
       "    .dataframe tbody tr th:only-of-type {\n",
       "        vertical-align: middle;\n",
       "    }\n",
       "\n",
       "    .dataframe tbody tr th {\n",
       "        vertical-align: top;\n",
       "    }\n",
       "\n",
       "    .dataframe thead th {\n",
       "        text-align: right;\n",
       "    }\n",
       "</style>\n",
       "<table border=\"1\" class=\"dataframe\">\n",
       "  <thead>\n",
       "    <tr style=\"text-align: right;\">\n",
       "      <th></th>\n",
       "      <th>user_id</th>\n",
       "      <th>timestamp</th>\n",
       "      <th>group</th>\n",
       "      <th>landing_page</th>\n",
       "      <th>converted</th>\n",
       "    </tr>\n",
       "  </thead>\n",
       "  <tbody>\n",
       "    <tr>\n",
       "      <th>0</th>\n",
       "      <td>851104</td>\n",
       "      <td>2017-01-21 22:11:48.556739</td>\n",
       "      <td>control</td>\n",
       "      <td>old_page</td>\n",
       "      <td>0</td>\n",
       "    </tr>\n",
       "    <tr>\n",
       "      <th>1</th>\n",
       "      <td>804228</td>\n",
       "      <td>2017-01-12 08:01:45.159739</td>\n",
       "      <td>control</td>\n",
       "      <td>old_page</td>\n",
       "      <td>0</td>\n",
       "    </tr>\n",
       "    <tr>\n",
       "      <th>2</th>\n",
       "      <td>661590</td>\n",
       "      <td>2017-01-11 16:55:06.154213</td>\n",
       "      <td>treatment</td>\n",
       "      <td>new_page</td>\n",
       "      <td>0</td>\n",
       "    </tr>\n",
       "    <tr>\n",
       "      <th>3</th>\n",
       "      <td>853541</td>\n",
       "      <td>2017-01-08 18:28:03.143765</td>\n",
       "      <td>treatment</td>\n",
       "      <td>new_page</td>\n",
       "      <td>0</td>\n",
       "    </tr>\n",
       "    <tr>\n",
       "      <th>4</th>\n",
       "      <td>864975</td>\n",
       "      <td>2017-01-21 01:52:26.210827</td>\n",
       "      <td>control</td>\n",
       "      <td>old_page</td>\n",
       "      <td>1</td>\n",
       "    </tr>\n",
       "  </tbody>\n",
       "</table>\n",
       "</div>"
      ],
      "text/plain": [
       "   user_id                   timestamp      group landing_page  converted\n",
       "0   851104  2017-01-21 22:11:48.556739    control     old_page          0\n",
       "1   804228  2017-01-12 08:01:45.159739    control     old_page          0\n",
       "2   661590  2017-01-11 16:55:06.154213  treatment     new_page          0\n",
       "3   853541  2017-01-08 18:28:03.143765  treatment     new_page          0\n",
       "4   864975  2017-01-21 01:52:26.210827    control     old_page          1"
      ]
     },
     "execution_count": 2,
     "metadata": {},
     "output_type": "execute_result"
    }
   ],
   "source": [
    "ab_data.head()"
   ]
  },
  {
   "cell_type": "code",
   "execution_count": 3,
   "id": "51ba763c",
   "metadata": {},
   "outputs": [
    {
     "data": {
      "text/html": [
       "<div>\n",
       "<style scoped>\n",
       "    .dataframe tbody tr th:only-of-type {\n",
       "        vertical-align: middle;\n",
       "    }\n",
       "\n",
       "    .dataframe tbody tr th {\n",
       "        vertical-align: top;\n",
       "    }\n",
       "\n",
       "    .dataframe thead th {\n",
       "        text-align: right;\n",
       "    }\n",
       "</style>\n",
       "<table border=\"1\" class=\"dataframe\">\n",
       "  <thead>\n",
       "    <tr style=\"text-align: right;\">\n",
       "      <th></th>\n",
       "      <th>user_id</th>\n",
       "      <th>timestamp</th>\n",
       "      <th>group</th>\n",
       "      <th>landing_page</th>\n",
       "      <th>isBought</th>\n",
       "    </tr>\n",
       "  </thead>\n",
       "  <tbody>\n",
       "    <tr>\n",
       "      <th>0</th>\n",
       "      <td>851104</td>\n",
       "      <td>2017-01-21 22:11:48.556739</td>\n",
       "      <td>control</td>\n",
       "      <td>old_page</td>\n",
       "      <td>0</td>\n",
       "    </tr>\n",
       "    <tr>\n",
       "      <th>1</th>\n",
       "      <td>804228</td>\n",
       "      <td>2017-01-12 08:01:45.159739</td>\n",
       "      <td>control</td>\n",
       "      <td>old_page</td>\n",
       "      <td>0</td>\n",
       "    </tr>\n",
       "    <tr>\n",
       "      <th>2</th>\n",
       "      <td>661590</td>\n",
       "      <td>2017-01-11 16:55:06.154213</td>\n",
       "      <td>test</td>\n",
       "      <td>new_page</td>\n",
       "      <td>0</td>\n",
       "    </tr>\n",
       "    <tr>\n",
       "      <th>3</th>\n",
       "      <td>853541</td>\n",
       "      <td>2017-01-08 18:28:03.143765</td>\n",
       "      <td>test</td>\n",
       "      <td>new_page</td>\n",
       "      <td>0</td>\n",
       "    </tr>\n",
       "    <tr>\n",
       "      <th>4</th>\n",
       "      <td>864975</td>\n",
       "      <td>2017-01-21 01:52:26.210827</td>\n",
       "      <td>control</td>\n",
       "      <td>old_page</td>\n",
       "      <td>1</td>\n",
       "    </tr>\n",
       "  </tbody>\n",
       "</table>\n",
       "</div>"
      ],
      "text/plain": [
       "   user_id                   timestamp    group landing_page  isBought\n",
       "0   851104  2017-01-21 22:11:48.556739  control     old_page         0\n",
       "1   804228  2017-01-12 08:01:45.159739  control     old_page         0\n",
       "2   661590  2017-01-11 16:55:06.154213     test     new_page         0\n",
       "3   853541  2017-01-08 18:28:03.143765     test     new_page         0\n",
       "4   864975  2017-01-21 01:52:26.210827  control     old_page         1"
      ]
     },
     "execution_count": 3,
     "metadata": {},
     "output_type": "execute_result"
    }
   ],
   "source": [
    "ab_data.rename(columns={\"converted\": \"isBought\"}, inplace=True)\n",
    "ab_data.group.replace('treatment', 'test', inplace=True)\n",
    "ab_data.head()"
   ]
  },
  {
   "cell_type": "code",
   "execution_count": 4,
   "id": "39763cbc",
   "metadata": {
    "scrolled": true
   },
   "outputs": [
    {
     "name": "stdout",
     "output_type": "stream",
     "text": [
      "(236, 5)\n",
      "(143622, 5)\n",
      "(143545, 5)\n",
      "(218, 5)\n"
     ]
    }
   ],
   "source": [
    "print(ab_data[(ab_data[\"group\"] == \"test\") & (ab_data[\"landing_page\"] == \"old_page\")].shape)\n",
    "print(ab_data[(ab_data[\"group\"] == \"test\") & (ab_data[\"landing_page\"] == \"new_page\")].shape)\n",
    "print(ab_data[(ab_data[\"group\"] == \"control\") & (ab_data[\"landing_page\"] == \"old_page\")].shape)\n",
    "print(ab_data[(ab_data[\"group\"] == \"control\") & (ab_data[\"landing_page\"] == \"new_page\")].shape)"
   ]
  },
  {
   "cell_type": "code",
   "execution_count": 5,
   "id": "84926936",
   "metadata": {},
   "outputs": [],
   "source": [
    "ab_data.drop(ab_data[(ab_data[\"group\"] == \"test\") & (ab_data[\"landing_page\"] == \"old_page\")].index, inplace=True)\n",
    "ab_data.drop(ab_data[(ab_data[\"group\"] == \"control\") & (ab_data[\"landing_page\"] == \"new_page\")].index, inplace=True)"
   ]
  },
  {
   "cell_type": "code",
   "execution_count": 6,
   "id": "ab47ba8d",
   "metadata": {},
   "outputs": [
    {
     "name": "stdout",
     "output_type": "stream",
     "text": [
      "(0, 5)\n",
      "(143622, 5)\n",
      "(143545, 5)\n",
      "(0, 5)\n"
     ]
    }
   ],
   "source": [
    "print(ab_data[(ab_data[\"group\"] == \"test\") & (ab_data[\"landing_page\"] == \"old_page\")].shape)\n",
    "print(ab_data[(ab_data[\"group\"] == \"test\") & (ab_data[\"landing_page\"] == \"new_page\")].shape)\n",
    "print(ab_data[(ab_data[\"group\"] == \"control\") & (ab_data[\"landing_page\"] == \"old_page\")].shape)\n",
    "print(ab_data[(ab_data[\"group\"] == \"control\") & (ab_data[\"landing_page\"] == \"new_page\")].shape)"
   ]
  },
  {
   "cell_type": "code",
   "execution_count": 7,
   "id": "b3c49eef",
   "metadata": {},
   "outputs": [
    {
     "name": "stdout",
     "output_type": "stream",
     "text": [
      "group\n",
      "control    0.121718\n",
      "test       0.124312\n",
      "Name: isBought, dtype: float64\n"
     ]
    }
   ],
   "source": [
    "print(ab_data.groupby('group').isBought.mean())"
   ]
  },
  {
   "cell_type": "code",
   "execution_count": 8,
   "id": "e981c639",
   "metadata": {
    "scrolled": true
   },
   "outputs": [
    {
     "name": "stdout",
     "output_type": "stream",
     "text": [
      "test       143622\n",
      "control    143545\n",
      "Name: group, dtype: int64\n"
     ]
    }
   ],
   "source": [
    "print(ab_data['group'].value_counts())"
   ]
  },
  {
   "cell_type": "markdown",
   "id": "a0b70fdc",
   "metadata": {},
   "source": [
    "### Проведем Z test. Нужно скачать statsmodels ###"
   ]
  },
  {
   "cell_type": "code",
   "execution_count": 9,
   "id": "b606c355",
   "metadata": {
    "scrolled": true
   },
   "outputs": [
    {
     "name": "stdout",
     "output_type": "stream",
     "text": [
      "Requirement already satisfied: statsmodels in c:\\users\\user\\anaconda3\\lib\\site-packages (0.13.2)\n",
      "Requirement already satisfied: numpy>=1.17 in c:\\users\\user\\anaconda3\\lib\\site-packages (from statsmodels) (1.21.5)\n",
      "Requirement already satisfied: scipy>=1.3 in c:\\users\\user\\anaconda3\\lib\\site-packages (from statsmodels) (1.9.1)\n",
      "Requirement already satisfied: pandas>=0.25 in c:\\users\\user\\anaconda3\\lib\\site-packages (from statsmodels) (1.4.4)\n",
      "Requirement already satisfied: patsy>=0.5.2 in c:\\users\\user\\anaconda3\\lib\\site-packages (from statsmodels) (0.5.2)\n",
      "Requirement already satisfied: packaging>=21.3 in c:\\users\\user\\anaconda3\\lib\\site-packages (from statsmodels) (21.3)\n",
      "Requirement already satisfied: pyparsing!=3.0.5,>=2.0.2 in c:\\users\\user\\anaconda3\\lib\\site-packages (from packaging>=21.3->statsmodels) (3.0.9)\n",
      "Requirement already satisfied: python-dateutil>=2.8.1 in c:\\users\\user\\anaconda3\\lib\\site-packages (from pandas>=0.25->statsmodels) (2.8.2)\n",
      "Requirement already satisfied: pytz>=2020.1 in c:\\users\\user\\anaconda3\\lib\\site-packages (from pandas>=0.25->statsmodels) (2022.1)\n",
      "Requirement already satisfied: six in c:\\users\\user\\anaconda3\\lib\\site-packages (from patsy>=0.5.2->statsmodels) (1.16.0)\n"
     ]
    }
   ],
   "source": [
    "!pip install statsmodels"
   ]
  },
  {
   "cell_type": "code",
   "execution_count": 10,
   "id": "69f0c1d1",
   "metadata": {
    "scrolled": true
   },
   "outputs": [
    {
     "data": {
      "text/plain": [
       "array([0, 0, 1, ..., 1, 1, 1], dtype=int64)"
      ]
     },
     "execution_count": 10,
     "metadata": {},
     "output_type": "execute_result"
    }
   ],
   "source": [
    "ab_data[ab_data[\"group\"] == \"test\"].isBought.values"
   ]
  },
  {
   "cell_type": "code",
   "execution_count": 11,
   "id": "5095d608",
   "metadata": {
    "scrolled": true
   },
   "outputs": [
    {
     "data": {
      "text/plain": [
       "array([0, 0, 1, ..., 1, 1, 1], dtype=int64)"
      ]
     },
     "execution_count": 11,
     "metadata": {},
     "output_type": "execute_result"
    }
   ],
   "source": [
    "ab_data[ab_data[\"group\"] == \"control\"].isBought.values"
   ]
  },
  {
   "cell_type": "markdown",
   "id": "77732437",
   "metadata": {},
   "source": [
    "### Импортируем ztest() из statsmodels ###"
   ]
  },
  {
   "cell_type": "code",
   "execution_count": 14,
   "id": "1c8491a8",
   "metadata": {},
   "outputs": [
    {
     "name": "stdout",
     "output_type": "stream",
     "text": [
      "statistic: 2.1164957417289\n",
      "p_value: 0.03430266698861987\n"
     ]
    }
   ],
   "source": [
    "from statsmodels.stats.weightstats import ztest\n",
    "\n",
    "# В statsmodels.stats.weightstats.ztest нужно передать две выборки (результаты До/После). \n",
    "# Из среднего значения тестовой группы вычиается среднее значение контрольной группы, \n",
    "# это делится на объединенную стандартную ошибку\n",
    "\n",
    "statistic, p_value = ztest(ab_data[ab_data[\"group\"] == \"test\"].isBought.values,\n",
    "            ab_data[ab_data[\"group\"] == \"control\"].isBought.values)\n",
    "\n",
    "print(f\"statistic: {statistic}\")\n",
    "print(f\"p_value: {p_value}\")"
   ]
  },
  {
   "cell_type": "markdown",
   "id": "865e8ff5",
   "metadata": {},
   "source": [
    "### Тест на пропорции на основе нормального (z)теста ###"
   ]
  },
  {
   "cell_type": "code",
   "execution_count": 16,
   "id": "7a1adf35",
   "metadata": {},
   "outputs": [
    {
     "name": "stdout",
     "output_type": "stream",
     "text": [
      "p_value: 0.00044\n"
     ]
    }
   ],
   "source": [
    "import numpy as np\n",
    "from statsmodels.stats.proportion import proportions_ztest\n",
    "\n",
    "# Количество успехов для каждой независимой выборки\n",
    "count = np.array([18, 49]) \n",
    "\n",
    "# Количество наблюдений\n",
    "nobs = np.array([2476, 2663])\n",
    "\n",
    "stat, pval = proportions_ztest(count, nobs)\n",
    "print('p_value: {0:0.5f}'.format(pval))\n"
   ]
  }
 ],
 "metadata": {
  "kernelspec": {
   "display_name": "Python 3 (ipykernel)",
   "language": "python",
   "name": "python3"
  },
  "language_info": {
   "codemirror_mode": {
    "name": "ipython",
    "version": 3
   },
   "file_extension": ".py",
   "mimetype": "text/x-python",
   "name": "python",
   "nbconvert_exporter": "python",
   "pygments_lexer": "ipython3",
   "version": "3.9.13"
  }
 },
 "nbformat": 4,
 "nbformat_minor": 5
}
