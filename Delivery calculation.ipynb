{
 "cells": [
  {
   "cell_type": "markdown",
   "id": "a89e2461",
   "metadata": {},
   "source": [
    "### Reading data and making it clear ###"
   ]
  },
  {
   "cell_type": "code",
   "execution_count": 39,
   "id": "1400e94c",
   "metadata": {
    "scrolled": false
   },
   "outputs": [],
   "source": [
    "import pandas as pd\n",
    "import numpy as np\n",
    "import warnings\n",
    "\n",
    "#------Читаем файл продаж за последний месяц ---------------------\n",
    "\n",
    "with warnings.catch_warnings(record=True):\n",
    "    warnings.simplefilter(\"always\")\n",
    "    df = pd.read_excel('MouthSales.XLSX', engine=\"openpyxl\")\n",
    "    \n",
    "#------Удаляем их header, сдвигаем начало df на один вниз----------\n",
    "\n",
    "df.columns = df.iloc[0]\n",
    "df = df[1:]\n",
    "df.reset_index(drop=True)\n",
    "\n",
    "#-----Переименовываем колонки так, чтобы там не было 2 раза'шт '--\n",
    "df.columns = ['Бренд', 'Предмет', 'Сезон', 'Коллекция', 'Наименование',\n",
    "       'Артикул продавца', 'Артикул WB', 'Баркод', 'Размер', 'Контракт',\n",
    "       'Склад', 'Поступило', 'Заказано штук', 'Сумма заказов минус комиссия WB, руб.',\n",
    "       'Выкупили, шт.', 'К перечислению за товар, руб.',\n",
    "       'Текущий остаток, шт.']\n"
   ]
  },
  {
   "cell_type": "markdown",
   "id": "c6840c78",
   "metadata": {},
   "source": [
    "### Step 1: Выясняем скорость продаж ###"
   ]
  },
  {
   "cell_type": "code",
   "execution_count": 40,
   "id": "ae02c1dc",
   "metadata": {},
   "outputs": [],
   "source": [
    "#-------Grouping by Артикул продавца -----\n",
    "df_pivot = df.pivot_table(values=['Заказано штук'], index='Артикул продавца', aggfunc = 'sum').sort_values(\n",
    "                                      by=['Заказано штук'], ascending=False)\n",
    "#-------Average speed of buying -------\n",
    "days = 30\n",
    "df_pivot['Speed'] = round((df_pivot['Заказано штук'] / 30), 2)\n"
   ]
  },
  {
   "cell_type": "markdown",
   "id": "27658f6d",
   "metadata": {},
   "source": [
    "### Step 2: Выясняем остаток ###"
   ]
  },
  {
   "cell_type": "code",
   "execution_count": 41,
   "id": "6aac6d33",
   "metadata": {},
   "outputs": [],
   "source": [
    "#-----Остаток = Goods left - goods that are on the way ------\n",
    "\n",
    "with warnings.catch_warnings(record=True):\n",
    "    warnings.simplefilter(\"always\")\n",
    "    df_left = pd.read_excel('left.xlsx', engine=\"openpyxl\")\n",
    "    \n",
    "df_left_pivot = df_left.pivot_table(\n",
    "    values=['Итого по складам', 'Товары в пути до клиента', 'Товары в пути от клиента'], \n",
    "    index='Артикул продавца', \n",
    "    aggfunc = 'sum')\n",
    "\n",
    "df_left_pivot['Left'] = df_left_pivot['Итого по складам'] - df_left_pivot['Товары в пути до клиента'] - df_left_pivot['Товары в пути от клиента']\n"
   ]
  },
  {
   "cell_type": "markdown",
   "id": "625bf19b",
   "metadata": {},
   "source": [
    "### Step 3: Узнаем, сколько нужно поставить и какой продукт продается слабо ###"
   ]
  },
  {
   "cell_type": "code",
   "execution_count": 42,
   "id": "fa84bcba",
   "metadata": {},
   "outputs": [],
   "source": [
    "#----------------Combining two tables -----------------\n",
    "result = pd.merge(df_pivot, df_left_pivot, on=\"Артикул продавца\")\n",
    "result.drop(columns = ['Заказано штук', 'Итого по складам', 'Товары в пути до клиента', 'Товары в пути от клиента'], axis = 1, \n",
    "            inplace = True) "
   ]
  },
  {
   "cell_type": "code",
   "execution_count": 43,
   "id": "f17f7d29",
   "metadata": {},
   "outputs": [],
   "source": [
    "#------------- How much to deliver so it is okey for next 60 days  --------\n",
    "result['To deliver'] = result['Speed'] * 60 + 10 - result['Left']\n",
    "\n",
    "#------------- Find a week product ----------------------------------------\n",
    "result['Weak product'] = np.where(result['Speed'] > 0.5, False, True)\n"
   ]
  },
  {
   "cell_type": "code",
   "execution_count": 44,
   "id": "ffb43616",
   "metadata": {},
   "outputs": [],
   "source": [
    "result.to_excel(\"To deliver.xlsx\") "
   ]
  }
 ],
 "metadata": {
  "kernelspec": {
   "display_name": "Python 3 (ipykernel)",
   "language": "python",
   "name": "python3"
  },
  "language_info": {
   "codemirror_mode": {
    "name": "ipython",
    "version": 3
   },
   "file_extension": ".py",
   "mimetype": "text/x-python",
   "name": "python",
   "nbconvert_exporter": "python",
   "pygments_lexer": "ipython3",
   "version": "3.9.13"
  }
 },
 "nbformat": 4,
 "nbformat_minor": 5
}
